{
 "cells": [
  {
   "cell_type": "raw",
   "id": "f9ba8574",
   "metadata": {
    "vscode": {
     "languageId": "raw"
    }
   },
   "source": [
    "---\n",
    "title: \"Conditionals in JavaScript - Hacks\"\n",
    "description: \"Three scaffolded hacks to practice selection (if, else if, else) in JavaScript. No nesting.\"\n",
    "layout: post\n",
    "categories: [Javascript]\n",
    "permalink: /csp/codemaxxers/conditionals/p4/hacks-js/\n",
    "---\n"
   ]
  },
  {
   "cell_type": "markdown",
   "id": "3c712f87",
   "metadata": {},
   "source": [
    "\n",
    "# 🌐 CSP 3.6 Hacks — Conditionals (JavaScript)\n",
    "\n",
    "You will complete **three** small programs that use selection with `if`, `else if`, `else` \n",
    "\n",
    "Answers to common errors:\n",
    "- Please select the JavaScript kernel when running the code, do NOT select python\n",
    "- If the code reports random errors try pressing restart at the top bar\n",
    "- If you get stuck on a problem, make comments about what you understand so far and what you are stuck on\n"
   ]
  },
  {
   "cell_type": "markdown",
   "id": "841773a2",
   "metadata": {},
   "source": [
    "\n",
    "## 🟢 Hack 1 — Number Range Checker (Beginner)\n",
    "\n",
    "**Requirements (spec):**\n",
    "- Ask for a number.\n",
    "- If the number is **between 0 and 10** (inclusive), print the number **then** print `Goodbye`.\n",
    "- Otherwise, print only `Goodbye!`.\n",
    "- Use one `if / else` and combine comparisons with `&&`.\n",
    "\n",
    "**Tips:** use `parseInt(..., 10)`; inclusive means `>=` and `<=`.\n"
   ]
  },
  {
   "cell_type": "code",
   "execution_count": 4,
   "id": "496c38dc",
   "metadata": {
    "vscode": {
     "languageId": "javascript"
    }
   },
   "outputs": [
    {
     "data": {
      "application/javascript": "if (num > 0 && num < 10){\nconsole.log(num);\nconsole.log(\"Goodbye\");\n} else { \nconsole.log(\"Goodbye!\");\n}\n\n",
      "text/plain": [
       "<IPython.core.display.Javascript object>"
      ]
     },
     "metadata": {},
     "output_type": "display_data"
    }
   ],
   "source": [
    "%%javascript \n",
    "if (num > 0 && num < 10){\n",
    "console.log(num);\n",
    "console.log(\"Goodbye\");\n",
    "} else { \n",
    "console.log(\"Goodbye!\");\n",
    "}\n",
    "\n"
   ]
  },
  {
   "cell_type": "markdown",
   "id": "93ed4d77",
   "metadata": {},
   "source": [
    "\n",
    "## 🟡 Hack 2 — Grade Evaluator (Intermediate)\n",
    "\n",
    "**Requirements (spec):**\n",
    "- Ask for a grade `0–100`.\n",
    "- If `grade >= 75`, print two lines: `You get extra credit!` then `Have a good day`.\n",
    "- Otherwise, print `Have a good day` only.\n",
    "\n",
    "\n"
   ]
  },
  {
   "cell_type": "code",
   "execution_count": 8,
   "id": "e89c7c78",
   "metadata": {
    "vscode": {
     "languageId": "javascript"
    }
   },
   "outputs": [
    {
     "data": {
      "application/javascript": "// Starter code \nlet grade = 85;  // Change this grade to test different cases\nconsole.log(grade);\nif (grade > 75){\nconsole.log(\"You get extra Credit!\");\nconsole.log(\"Have a good day\");\n} else { \nconsole.log(\"Have a good day\");\n}\n",
      "text/plain": [
       "<IPython.core.display.Javascript object>"
      ]
     },
     "metadata": {},
     "output_type": "display_data"
    }
   ],
   "source": [
    "%%javascript\n",
    "// Starter code \n",
    "let grade = 85;  // Change this grade to test different cases\n",
    "console.log(grade);\n",
    "if (grade > 75){\n",
    "console.log(\"You get extra Credit!\");\n",
    "console.log(\"Have a good day\");\n",
    "} else { \n",
    "console.log(\"Have a good day\");\n",
    "}"
   ]
  },
  {
   "cell_type": "markdown",
   "id": "c9774090",
   "metadata": {},
   "source": [
    "\n",
    "## 🔵 Hack 3 — Access Pass (Advanced)\n",
    "\n",
    "**Inputs:** `age` (number), `has_ticket` (`\"yes\"/\"no\"`), `vip` (`\"yes\"/\"no\"`)\n",
    "\n",
    "**Rules**\n",
    "- If `vip === \"yes\"` → `VIP Entrance`\n",
    "- Else if `has_ticket === \"yes\"` **and** `age >= 16` → `General Entrance`\n",
    "- Else if `has_ticket === \"yes\"` **and** `age < 16` → `Minor Entrance (with guardian)`\n",
    "- Else → `No Entrance`\n",
    "\n",
    "**Tip:** normalize strings with `.trim().toLowerCase()`.\n"
   ]
  },
  {
   "cell_type": "code",
   "execution_count": 11,
   "id": "9c71990e",
   "metadata": {
    "vscode": {
     "languageId": "javascript"
    }
   },
   "outputs": [
    {
     "data": {
      "application/javascript": "let age = 15;           //  Change the age\nlet has_ticket = \"yes\"; //  Change to \"yes\" or \"no\"\nlet vip = \"no\";         //  Change to \"yes\" or \"no\"\n\nif (vip == \"yes\"){\n    console.log(\"VIP Entrance\");\n}\nelse if (age >= 16 && has_ticket == \"yes\"){\n    console.log(\"General Entrance\");\n}\nelse if (age <16 && has_ticket == \"yes\"){\n    console.log(\"Minor Entrance (with guardian)\");\n}\nelse {\n    console.log(\"No Entrance\");\n}\n",
      "text/plain": [
       "<IPython.core.display.Javascript object>"
      ]
     },
     "metadata": {},
     "output_type": "display_data"
    }
   ],
   "source": [
    "%%javascript\n",
    "let age = 15;           //  Change the age\n",
    "let has_ticket = \"yes\"; //  Change to \"yes\" or \"no\"\n",
    "let vip = \"no\";         //  Change to \"yes\" or \"no\"\n",
    "\n",
    "if (vip == \"yes\"){\n",
    "    console.log(\"VIP Entrance\");\n",
    "}\n",
    "else if (age >= 16 && has_ticket == \"yes\"){\n",
    "    console.log(\"General Entrance\");\n",
    "}\n",
    "else if (age <16 && has_ticket == \"yes\"){\n",
    "    console.log(\"Minor Entrance (with guardian)\");\n",
    "}\n",
    "else {\n",
    "    console.log(\"No Entrance\");\n",
    "}"
   ]
  },
  {
   "cell_type": "markdown",
   "id": "398be899",
   "metadata": {},
   "source": [
    "\n",
    "---\n",
    "### Reflection: Think about the following question. Answer in 3-4 sentences\n",
    "- Did any of the question trip you up? If yes, explain the problem and your solution. If no, give a brief, 1-2 sentence summary of conditionals.\n",
    "There were some obvious problems, both involving the order of the \"if, else if, and else\" and how i didn't know \"elif\" is replaced by \"else if\" in JavaScript. The third one was a lot easier than I had expected, but 2nd one was harder because it was starting to introduce to the more complex parts, when I had to do multiple operations to set the elements in the conditional situation.\n",
    "- Can you think of real life examples where we would use conditionals? Please do NOT use one of the hacks as a real life example\n",
    "Real life examples we can use as conditions is probably about the game of chess, every move that follows, until the game ends is a condition with trillions of possibilities. \n",
    "- How is javascript different from python in terms of conditionals?\n",
    "Javascripts were more simple and effective when organizing the conditionals, which was different because Python is usually more simple. "
   ]
  },
  {
   "cell_type": "markdown",
   "id": "ed970992",
   "metadata": {},
   "source": [
    "\n",
    "---\n",
    "### 🧾 Turn-in checklist\n",
    "- [Checked!] All three hacks run and match the rules above them. \n",
    "- [Checked!] You included at least one changed element for at least one hack, this can be change of message, the range, or the input information (not the input, the prompt for the input). Do not just change the input and call that your personal change.\n",
    "- [Checked!] You wrote a 2–3 sentence reflection in your portfolio:  \n",
    "  - What conditional form did you use most?  I used the Boolean a lot, to create the necessary elements of the conditioanl situation. For example, to create a ticket system in question #3, I had to list out the possibilities and what would happen. \n",
    "  - What would you like to add to the lesson that would help you better understand the material?\n",
    "  I would still like to add on more and clearer definitions of important things like the \"if, else if, and else\" material within the conditionals, also there should be completed examples with the most important parts highlighted. \n"
   ]
  }
 ],
 "metadata": {
  "kernelspec": {
   "display_name": "venv (3.12.3)",
   "language": "python",
   "name": "python3"
  },
  "language_info": {
   "codemirror_mode": {
    "name": "ipython",
    "version": 3
   },
   "file_extension": ".py",
   "mimetype": "text/x-python",
   "name": "python",
   "nbconvert_exporter": "python",
   "pygments_lexer": "ipython3",
   "version": "3.12.3"
  }
 },
 "nbformat": 4,
 "nbformat_minor": 5
}
