{
 "cells": [
  {
   "cell_type": "raw",
   "id": "f7d70aa2",
   "metadata": {
    "vscode": {
     "languageId": "raw"
    }
   },
   "source": [
    "---\n",
    "layout: post\n",
    "title: \"3.1 Variables & Assignments hacks\"\n",
    "categories: [Programming Fundamentals, Tutorial]\n",
    "tags: [python, javascript, variables, assignment, beginner]\n",
    "description: Apply your understanding of Variables & Assignments with these hacks\n",
    "author: Aditya Srivastava, Laya Balaji\n",
    "permalink: /javascript/variables/crashers-hw\n",
    "---"
   ]
  },
  {
   "cell_type": "markdown",
   "id": "ce56910b",
   "metadata": {},
   "source": [
    "# 🐷 Peppa Maze Variables & Assignments Hacks\n",
    "Welcome to the Peppa Maze hacks! These challenges will test your understanding of variables, assignments, and logic in Javascript. Read each task, then write or modify code to solve it."
   ]
  },
  {
   "cell_type": "markdown",
   "id": "7dee3bb5",
   "metadata": {},
   "source": [
    "## Hack 1: JavaScript - Variable Assignment, Naming, and Operators\n",
    "Create variables for Peppa's name, score, and level using good JavaScript naming conventions. Assign initial values, then use operators to update score (add 10) and level (multiply by 2). Print all results."
   ]
  },
  {
   "cell_type": "code",
   "execution_count": null,
   "id": "e4bee113",
   "metadata": {
    "vscode": {
     "languageId": "javascript"
    }
   },
   "outputs": [
    {
     "data": {
      "application/javascript": "// Write your code here\n// Create variables for Peppa's name, score, and level\n// Use operators to update score and level\n\nvar name = \"tiger\";\nlet score = 0;\nlet level = 1;\n\nconsole.log(name, score,level)\n",
      "text/plain": [
       "<IPython.core.display.Javascript object>"
      ]
     },
     "metadata": {},
     "output_type": "display_data"
    }
   ],
   "source": [
    "%%javascript\n",
    "// Write your code here\n",
    "// Create variables for Peppa's name, score, and level\n",
    "// Use operators to update score and level\n",
    "\n",
    "var name = \"Peppa\";\n",
    "let score = 0;\n",
    "let level = 1;\n",
    "\n",
    "console.log(name, score,level)"
   ]
  },
  {
   "cell_type": "markdown",
   "id": "3f8a5cbe",
   "metadata": {},
   "source": [
    "## Hack 2: JavaScript - Variable Declaration, Assignment, and Operators\n",
    "Declare variables for Peppa and George's scores using good JavaScript naming conventions. Assign initial values, then use operators to update both scores (e.g., Peppa gets 15 points, George loses 5 points). Print both scores."
   ]
  },
  {
   "cell_type": "code",
   "execution_count": 6,
   "id": "c4c80df3",
   "metadata": {
    "vscode": {
     "languageId": "javascript"
    }
   },
   "outputs": [
    {
     "data": {
      "application/javascript": "// Write your code here\n// Declare variables for Peppa and George's scores\n// Use operators to update both scores\nname1 = \"Peppa\";\nname2 =\"George\";\nlet score1 = 0;\nlet score2 = 0;\nlet level1 = 1;\nlet level2 = 1;\n\nfunction updatescore1(score1, level1){\n    let scoreresult1 = score1 + 10\n    let levelresult1 = level1 + 1\n    return {scoreresult1, levelresult1};\n}\nfunction updatescore2(score2, level2){\n    let scoreresult2 = score2 - 5\n    let levelresult2 = level2 + 1\n    return {scoreresult2, levelresult2};\n}\n",
      "text/plain": [
       "<IPython.core.display.Javascript object>"
      ]
     },
     "metadata": {},
     "output_type": "display_data"
    }
   ],
   "source": [
    "%%javascript\n",
    "// Write your code here\n",
    "// Declare variables for Peppa and George's scores\n",
    "// Use operators to update both scores\n",
    "name1 = \"Peppa\";\n",
    "name2 =\"George\";\n",
    "let score1 = 0;\n",
    "let score2 = 0;\n",
    "let level1 = 1;\n",
    "let level2 = 1;\n",
    "\n",
    "function updatescore1(score1, level1){\n",
    "    let scoreresult1 = score1 + 10\n",
    "    let levelresult1 = level1 + 1\n",
    "    return {scoreresult1, levelresult1};\n",
    "}\n",
    "function updatescore2(score2, level2){\n",
    "    let scoreresult2 = score2 - 5\n",
    "    let levelresult2 = level2 + 1\n",
    "    return {scoreresult2, levelresult2};\n",
    "}"
   ]
  },
  {
   "cell_type": "markdown",
   "id": "30580c24",
   "metadata": {},
   "source": [
    "## Hack 3: JavaScript - Multiple Assignment and Math Operators\n",
    "Peppa and George both start at level 1. Use a single line to assign both their levels to 5. Then, calculate a combined score by multiplying their levels together and multiplying by 10. Print all results."
   ]
  },
  {
   "cell_type": "code",
   "execution_count": 10,
   "id": "67774ff3",
   "metadata": {
    "vscode": {
     "languageId": "javascript"
    }
   },
   "outputs": [
    {
     "data": {
      "application/javascript": "let name1 = \"Peppa\";\nlet name2 = \"George\";\n\n// Assign both levels to 5 in one line\nlet level1 = 5, level2 = 5;\n\nfunction updateScore(level1, level2){\n    let result1 = level1 + 4;\n    let result2 = level2 + 4;\n    return { result1, result2 };\n}\n\n// Update levels\nlet newLevels = updateScore(level1, level2);\nlevel1 = newLevels.result1;\nlevel2 = newLevels.result2;\n\n// Print updated levels\nconsole.log(level1, level2);\n\n// Calculate combined score\nlet combinedScore = level1 * level2 * 10;\nconsole.log(combinedScore);\n\n\n\n",
      "text/plain": [
       "<IPython.core.display.Javascript object>"
      ]
     },
     "metadata": {},
     "output_type": "display_data"
    }
   ],
   "source": [
    "%%javascript\n",
    "let name1 = \"Peppa\";\n",
    "let name2 = \"George\";\n",
    "\n",
    "// Assign both levels to 5 in one line\n",
    "let level1 = 5, level2 = 5;\n",
    "\n",
    "function updateScore(level1, level2){\n",
    "    let result1 = level1 + 4;\n",
    "    let result2 = level2 + 4;\n",
    "    return { result1, result2 };\n",
    "}\n",
    "\n",
    "// Update levels\n",
    "let newLevels = updateScore(level1, level2);\n",
    "level1 = newLevels.result1;\n",
    "level2 = newLevels.result2;\n",
    "\n",
    "// Print updated levels\n",
    "console.log(level1, level2);\n",
    "\n",
    "// Calculate combined score\n",
    "let combinedScore = level1 * level2 * 10;\n",
    "console.log(combinedScore);\n",
    "\n",
    "\n",
    "\n"
   ]
  }
 ],
 "metadata": {
  "kernelspec": {
   "display_name": "venv (3.12.3)",
   "language": "python",
   "name": "python3"
  },
  "language_info": {
   "codemirror_mode": {
    "name": "ipython",
    "version": 3
   },
   "file_extension": ".py",
   "mimetype": "text/x-python",
   "name": "python",
   "nbconvert_exporter": "python",
   "pygments_lexer": "ipython3",
   "version": "3.12.3"
  }
 },
 "nbformat": 4,
 "nbformat_minor": 5
}
