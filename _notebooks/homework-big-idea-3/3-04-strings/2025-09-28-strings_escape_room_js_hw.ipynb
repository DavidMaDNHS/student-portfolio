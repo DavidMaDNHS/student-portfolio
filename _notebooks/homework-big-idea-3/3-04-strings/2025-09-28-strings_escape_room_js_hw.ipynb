{
 "cells": [
  {
   "cell_type": "raw",
   "id": "d69f0104",
   "metadata": {
    "vscode": {
     "languageId": "raw"
    }
   },
   "source": [
    "---\n",
    "layout: post\n",
    "title: strings Homework\n",
    "description: Quick practice with strings in JavaScript.\n",
    "permalink: /javascript/strings/escape_room-hw \n",
    "categories: [Javascript]\n",
    "Author: Cyrus S, Rishabh J.\n",
    "---"
   ]
  },
  {
   "cell_type": "code",
   "execution_count": 1,
   "id": "9087d7af",
   "metadata": {
    "vscode": {
     "languageId": "javascript"
    }
   },
   "outputs": [
    {
     "name": "stdout",
     "output_type": "stream",
     "text": [
      "🎯 JavaScript String Basics - Free-Response Quiz\n",
      "Type your answers below and click Check Answers.\n",
      "\n"
     ]
    },
    {
     "data": {
      "application/vnd.jupyter.widget-view+json": {
       "model_id": "3de7233aa32c4d7dadb521a403180b2b",
       "version_major": 2,
       "version_minor": 0
      },
      "text/plain": [
       "HTML(value='<b>1. In JavaScript, which property is used to get the length of a string?</b><br><i>Answer with t…"
      ]
     },
     "metadata": {},
     "output_type": "display_data"
    },
    {
     "data": {
      "application/vnd.jupyter.widget-view+json": {
       "model_id": "ac5e434f478d4944af851170c9d8469b",
       "version_major": 2,
       "version_minor": 0
      },
      "text/plain": [
       "Text(value='', placeholder='e.g., length or string.length')"
      ]
     },
     "metadata": {},
     "output_type": "display_data"
    },
    {
     "data": {
      "application/vnd.jupyter.widget-view+json": {
       "model_id": "1daa198571424ef4b3d6d09a0622ba37",
       "version_major": 2,
       "version_minor": 0
      },
      "text/plain": [
       "HTML(value='<b>2. Which expression can concatenate two strings?</b><br><i>Type the expression or operator (e.g…"
      ]
     },
     "metadata": {},
     "output_type": "display_data"
    },
    {
     "data": {
      "application/vnd.jupyter.widget-view+json": {
       "model_id": "e93445ed235843e99d4d86bd69aa81cd",
       "version_major": 2,
       "version_minor": 0
      },
      "text/plain": [
       "Text(value='', placeholder='e.g., \"Hello\" + \"World\" or +')"
      ]
     },
     "metadata": {},
     "output_type": "display_data"
    },
    {
     "data": {
      "application/vnd.jupyter.widget-view+json": {
       "model_id": "3a950f6849b54e569a0c65b6b8c05ccd",
       "version_major": 2,
       "version_minor": 0
      },
      "text/plain": [
       "HTML(value=\"<b>3. What does 'JavaScript'.substring(0, 4) return?</b><br><i>Type the exact substring</i>\")"
      ]
     },
     "metadata": {},
     "output_type": "display_data"
    },
    {
     "data": {
      "application/vnd.jupyter.widget-view+json": {
       "model_id": "501e7fd38d1a4fbbaf74af9147da317d",
       "version_major": 2,
       "version_minor": 0
      },
      "text/plain": [
       "Text(value='', placeholder='e.g., Java')"
      ]
     },
     "metadata": {},
     "output_type": "display_data"
    },
    {
     "data": {
      "application/vnd.jupyter.widget-view+json": {
       "model_id": "75a78a6312c24d3bb2b9182a8ba98066",
       "version_major": 2,
       "version_minor": 0
      },
      "text/plain": [
       "HTML(value='<b>4. Which method converts a string to uppercase?</b><br><i>Type the method name</i>')"
      ]
     },
     "metadata": {},
     "output_type": "display_data"
    },
    {
     "data": {
      "application/vnd.jupyter.widget-view+json": {
       "model_id": "b39da021594347f7ab483b9172fd63bc",
       "version_major": 2,
       "version_minor": 0
      },
      "text/plain": [
       "Text(value='', placeholder='e.g., toUpperCase()')"
      ]
     },
     "metadata": {},
     "output_type": "display_data"
    },
    {
     "data": {
      "application/vnd.jupyter.widget-view+json": {
       "model_id": "f6b9af7367eb44d3aa971f41351be03f",
       "version_major": 2,
       "version_minor": 0
      },
      "text/plain": [
       "HTML(value='<b>5. String indexes start at 1 in JavaScript</b><br><i>Answer True or False</i>')"
      ]
     },
     "metadata": {},
     "output_type": "display_data"
    },
    {
     "data": {
      "application/vnd.jupyter.widget-view+json": {
       "model_id": "42dfd4f23d9046359228f12bde607332",
       "version_major": 2,
       "version_minor": 0
      },
      "text/plain": [
       "Text(value='', placeholder='True/False')"
      ]
     },
     "metadata": {},
     "output_type": "display_data"
    },
    {
     "data": {
      "application/vnd.jupyter.widget-view+json": {
       "model_id": "6ea58c41a1114d53950c7186118704ac",
       "version_major": 2,
       "version_minor": 0
      },
      "text/plain": [
       "HTML(value=\"<b>6. 'hello'.length returns 5</b><br><i>Answer True or False</i>\")"
      ]
     },
     "metadata": {},
     "output_type": "display_data"
    },
    {
     "data": {
      "application/vnd.jupyter.widget-view+json": {
       "model_id": "db8bd74370bf4a13944410ffebc58893",
       "version_major": 2,
       "version_minor": 0
      },
      "text/plain": [
       "Text(value='', placeholder='True/False')"
      ]
     },
     "metadata": {},
     "output_type": "display_data"
    },
    {
     "data": {
      "application/vnd.jupyter.widget-view+json": {
       "model_id": "72035b2ab15a46ae94c67002b57d5af6",
       "version_major": 2,
       "version_minor": 0
      },
      "text/plain": [
       "Button(button_style='success', description='Check Answers', icon='check', style=ButtonStyle())"
      ]
     },
     "metadata": {},
     "output_type": "display_data"
    },
    {
     "data": {
      "application/vnd.jupyter.widget-view+json": {
       "model_id": "2d3fbbbb5d124102a9de43407b4f1078",
       "version_major": 2,
       "version_minor": 0
      },
      "text/plain": [
       "Output()"
      ]
     },
     "metadata": {},
     "output_type": "display_data"
    }
   ],
   "source": [
    "# Interactive Free-Response Quiz (JavaScript-only)\n",
    "from IPython.display import display, HTML, Javascript\n",
    "import ipywidgets as widgets\n",
    "\n",
    "print(\"🎯 JavaScript String Basics - Free-Response Quiz\")\n",
    "print(\"Type your answers below and click Check Answers.\\n\")\n",
    "\n",
    "# Question 1\n",
    "q1_label = widgets.HTML(\"<b>1. In JavaScript, which property is used to get the length of a string?</b><br><i>Answer with the property name (e.g., length or string.length)</i>\")\n",
    "q1_input = widgets.Text(placeholder=\"e.g., length or string.length\")\n",
    "\n",
    "# Question 2\n",
    "q2_label = widgets.HTML(\"<b>2. Which expression can concatenate two strings?</b><br><i>Type the expression or operator (e.g., \\\"Hello\\\" + \\\"World\\\" or +)</i>\")\n",
    "q2_input = widgets.Text(placeholder='e.g., \"Hello\" + \"World\" or +')\n",
    "\n",
    "# Question 3\n",
    "q3_label = widgets.HTML(\"<b>3. What does 'JavaScript'.substring(0, 4) return?</b><br><i>Type the exact substring</i>\")\n",
    "q3_input = widgets.Text(placeholder='e.g., Java')\n",
    "\n",
    "# Question 4\n",
    "q4_label = widgets.HTML(\"<b>4. Which method converts a string to uppercase?</b><br><i>Type the method name</i>\")\n",
    "q4_input = widgets.Text(placeholder='e.g., toUpperCase()')\n",
    "\n",
    "# True/False Questions\n",
    "q5_label = widgets.HTML(\"<b>5. String indexes start at 1 in JavaScript</b><br><i>Answer True or False</i>\")\n",
    "q5_input = widgets.Text(placeholder='True/False')\n",
    "\n",
    "q6_label = widgets.HTML(\"<b>6. 'hello'.length returns 5</b><br><i>Answer True or False</i>\")\n",
    "q6_input = widgets.Text(placeholder='True/False')\n",
    "\n",
    "# Submit Button\n",
    "submit_btn = widgets.Button(\n",
    "    description=\"Check Answers\",\n",
    "    button_style='success',\n",
    "    icon='check'\n",
    ")\n",
    "\n",
    "output = widgets.Output()\n",
    "\n",
    "# Helper functions for tolerant checking\n",
    "\n",
    "def clean_token(s: str) -> str:\n",
    "    s = s.strip().lower()\n",
    "    s = s.strip('`')\n",
    "    if s.endswith('()'):\n",
    "        s = s[:-2]\n",
    "    return s\n",
    "\n",
    "\n",
    "def strip_quotes_spaces(s: str) -> str:\n",
    "    return s.replace('\"', '').replace(\"'\", '').replace(' ', '').strip().lower()\n",
    "\n",
    "\n",
    "def parse_bool_like(s: str):\n",
    "    v = s.strip().lower()\n",
    "    if v in {'true', 't', 'yes', 'y', '1'}:\n",
    "        return True\n",
    "    if v in {'false', 'f', 'no', 'n', '0'}:\n",
    "        return False\n",
    "    return None\n",
    "\n",
    "\n",
    "def check_answers(btn):\n",
    "    with output:\n",
    "        output.clear_output()\n",
    "        score = 0\n",
    "        total = 6\n",
    "\n",
    "        print(\"📊 QUIZ RESULTS\")\n",
    "        print(\"=\" * 40)\n",
    "\n",
    "        # Q1: length property\n",
    "        a1 = clean_token(q1_input.value)\n",
    "        if a1 == 'length' or a1.endswith('.length'):\n",
    "            score += 1\n",
    "            print(\"✅ Q1: CORRECT\")\n",
    "        else:\n",
    "            print(\"❌ Q1: INCORRECT - Expected: length (property)\")\n",
    "\n",
    "        # Q2: concatenation using +\n",
    "        raw2 = q2_input.value\n",
    "        a2_clean = strip_quotes_spaces(raw2)\n",
    "        if ('+' in raw2) or ('plus' in raw2.lower()) or (a2_clean == 'hello+world'):\n",
    "            score += 1\n",
    "            print(\"✅ Q2: CORRECT\")\n",
    "        else:\n",
    "            print(\"❌ Q2: INCORRECT - Example: \\\"Hello\\\" + \\\"World\\\" (use +)\")\n",
    "\n",
    "        # Q3: substring(0,4) -> \"Java\"\n",
    "        a3 = q3_input.value.strip().strip('\"').strip(\"'\")\n",
    "        if a3.lower() == 'java':\n",
    "            score += 1\n",
    "            print(\"✅ Q3: CORRECT\")\n",
    "        else:\n",
    "            print(\"❌ Q3: INCORRECT - Correct: Java\")\n",
    "\n",
    "        # Q4: toUpperCase()\n",
    "        a4 = clean_token(q4_input.value).replace('_', '')\n",
    "        if a4 == 'touppercase':\n",
    "            score += 1\n",
    "            print(\"✅ Q4: CORRECT\")\n",
    "        else:\n",
    "            print(\"❌ Q4: INCORRECT - Correct: toUpperCase()\")\n",
    "\n",
    "        # Q5: False (indexes start at 0)\n",
    "        a5 = parse_bool_like(q5_input.value)\n",
    "        if a5 is None:\n",
    "            print(\"⚠️ Q5: Could not parse. Please answer True/False.\")\n",
    "        elif a5 is False:\n",
    "            score += 1\n",
    "            print(\"✅ Q5: CORRECT\")\n",
    "        else:\n",
    "            print(\"❌ Q5: INCORRECT - Correct: False (indexes start at 0)\")\n",
    "\n",
    "        # Q6: True ('hello'.length == 5)\n",
    "        a6 = parse_bool_like(q6_input.value)\n",
    "        if a6 is None:\n",
    "            print(\"⚠️ Q6: Could not parse. Please answer True/False.\")\n",
    "        elif a6 is True:\n",
    "            score += 1\n",
    "            print(\"✅ Q6: CORRECT\")\n",
    "        else:\n",
    "            print(\"❌ Q6: INCORRECT - Correct: True\")\n",
    "\n",
    "        print(\"=\" * 40)\n",
    "        print(f\"🎯 Your Score: {score}/{total}\")\n",
    "        print(f\"📈 Percentage: {score/total*100:.1f}%\")\n",
    "\n",
    "        # Persist a completion flag to localStorage (optional)\n",
    "        try:\n",
    "            display(Javascript(\"\"\"localStorage.setItem('csp34_hw_quiz_tried','true');\"\"\"))\n",
    "        except Exception:\n",
    "            pass\n",
    "\n",
    "\n",
    "submit_btn.on_click(check_answers)\n",
    "\n",
    "# Display all questions and inputs\n",
    "display(\n",
    "    q1_label, q1_input,\n",
    "    q2_label, q2_input,\n",
    "    q3_label, q3_input,\n",
    "    q4_label, q4_input,\n",
    "    q5_label, q5_input,\n",
    "    q6_label, q6_input,\n",
    "    submit_btn, output,\n",
    ")"
   ]
  },
  {
   "cell_type": "markdown",
   "id": "4cf9f9ec",
   "metadata": {},
   "source": [
    "## Part C: JavaScript Password Strength Practice\n",
    "\n",
    "Here you will make a password strength analyzer in JavaScript. Complete the program so it checks:\n",
    "\n",
    "- Password length ≥ 8 characters\n",
    "- Contains uppercase letters\n",
    "- Contains lowercase letters  \n",
    "- Contains numbers\n",
    "- Contains special characters (!@#$%^&*)\n",
    "\n",
    "Then calculate a strength score and display appropriate feedback.\n",
    "\n",
    "Try to fix the code to set your own password level."
   ]
  },
  {
   "cell_type": "code",
   "execution_count": 7,
   "id": "f2a683a6",
   "metadata": {
    "vscode": {
     "languageId": "javascript"
    }
   },
   "outputs": [
    {
     "data": {
      "application/javascript": "\nconsole.log(\"=== Password Strength Analyzer ===\");\n\nfunction analyzePassword(password, minLength = 8, specialChars = \"!@#$%^&*\") {\n    const passwordLength = password.length;\n    const isLongEnough = passwordLength >= minLength;\n    const hasUppercase = /[A-Z]/.test(password);\n    const hasLowercase = /[a-z]/.test(password);\n    const hasNumbers = /\\d/.test(password);\n    const hasSpecial = new RegExp(\"[\" + specialChars.replace(/[.*+?^${}()|[\\]\\\\]/g, \"\\\\$&\") + \"]\").test(password);\n\n    // Common and repeating patterns\n    const commonPatterns = [\"password\", \"123456789\", \"987654321\", \"hello\", \"goodmorning\", \"letmein\", \"food\", \"planes\", \"eat\", \"donuts\"];\n    const repeatingPatterns = [\"abc\", \"123\", \"qwerty\", \"111\", \"aaa\", \"xyz\"];\n    const inappropriatePatterns = [\"f_bomb\", \"hitler\", \"nazism\", \"communism\"];\n\n    // Check for restricted or common content\n    const lowerPw = password.toLowerCase();\n    const hasCommon = commonPatterns.concat(repeatingPatterns).some(p => lowerPw.includes(p));\n    const notAllowed = inappropriatePatterns.some(p => lowerPw.includes(p));\n\n    // Calculate strength score\n    let strengthScore = 0;\n    if (isLongEnough) strengthScore++;\n    if (hasUppercase) strengthScore++;\n    if (hasLowercase) strengthScore++;\n    if (hasNumbers) strengthScore++;\n    if (hasSpecial) strengthScore++;\n\n    // Determine rating\n    let strengthRating = \"\";\n    if (notAllowed) {\n        strengthRating = \"Not Allowed\";\n    } else if (hasCommon) {\n        strengthRating = \"Weak\";\n    } else if (strengthScore <= 2) {\n        strengthRating = \"Weak\";\n    } else if (strengthScore <= 3) {\n        strengthRating = \"Medium\";\n    } else {\n        strengthRating = \"Strong\";\n    }\n\n    // Suggestions\n    const suggestions = [];\n    if (!isLongEnough) suggestions.push(`Make password longer (at least ${minLength} characters)`);\n    if (!hasUppercase) suggestions.push(\"Add uppercase letters\");\n    if (!hasLowercase) suggestions.push(\"Add lowercase letters\");\n    if (!hasNumbers) suggestions.push(\"Add numbers\");\n    if (!hasSpecial) suggestions.push(`Add special characters: ${specialChars}`);\n    if (hasCommon) suggestions.push(\"Avoid common words or patterns\");\n    if (notAllowed) suggestions.push(\"Avoid inappropriate or banned terms\");\n\n    return {\n        password,\n        length: passwordLength,\n        score: strengthScore,\n        rating: strengthRating,\n        isLongEnough,\n        hasUppercase,\n        hasLowercase,\n        hasNumbers,\n        hasSpecial,\n        hasCommonPatterns: hasCommon,\n        hasInappropriatePatterns: notAllowed,\n        suggestions\n    };\n}\n\n// Print results\nfunction printAnalysis(result, hidePassword = false) {\n    const pw = hidePassword ? \"*\".repeat(result.length) : result.password;\n    let output = `\\nPassword: ${pw}\\n`;\n    output += `Length: ${result.length} characters\\n`;\n    output += `Strength Score: ${result.score}/5 - ${result.rating}\\n`;\n    output += `Requirements met:\\n`;\n    output += `  ✓ Length >= 8: ${result.isLongEnough}\\n`;\n    output += `  ✓ Has uppercase: ${result.hasUppercase}\\n`;\n    output += `  ✓ Has lowercase: ${result.hasLowercase}\\n`;\n    output += `  ✓ Has numbers: ${result.hasNumbers}\\n`;\n    output += `  ✓ Has special chars: ${result.hasSpecial}\\n\\n`;\n\n    if (result.suggestions.length > 0) {\n        output += \"Suggestions for improvement:\\n\";\n        for (const s of result.suggestions) output += `  • ${s}\\n`;\n    } else if (result.rating === \"Not Allowed\") {\n        output += \"⚠️ Password contains restricted terms — not allowed.\\n\";\n    } else {\n        output += \"🎉 Excellent! Your password meets all security requirements!\\n\";\n    }\n\n    console.log(output);\n}\n\n// Example passwords\nconst examplePasswords = [\n    \"adolfhitler123\",\n    \"David123456789\",\n    \"987654321\",\n    \"zacfsd\",\n    \"Berna@3#56\",\n    \"Wakers!\",\n    \"Doors&Rooms2\",\n    \"Debuggers20252026\"\n];\n\nconsole.log(\"\\nRunning examples:\");\nfor (const p of examplePasswords) {\n    const result = analyzePassword(p);\n    printAnalysis(result, false);\n}\n",
      "text/plain": [
       "<IPython.core.display.Javascript object>"
      ]
     },
     "metadata": {},
     "output_type": "display_data"
    }
   ],
   "source": [
    "%%javascript\n",
    "\n",
    "console.log(\"=== Password Strength Analyzer ===\");\n",
    "\n",
    "function analyzePassword(password, minLength = 8, specialChars = \"!@#$%^&*\") {\n",
    "    const passwordLength = password.length;\n",
    "    const isLongEnough = passwordLength >= minLength;\n",
    "    const hasUppercase = /[A-Z]/.test(password);\n",
    "    const hasLowercase = /[a-z]/.test(password);\n",
    "    const hasNumbers = /\\d/.test(password);\n",
    "    const hasSpecial = new RegExp(\"[\" + specialChars.replace(/[.*+?^${}()|[\\]\\\\]/g, \"\\\\$&\") + \"]\").test(password);\n",
    "\n",
    "    // Common and repeating patterns\n",
    "    const commonPatterns = [\"password\", \"123456789\", \"987654321\", \"hello\", \"goodmorning\", \"letmein\", \"food\", \"planes\", \"eat\", \"donuts\"];\n",
    "    const repeatingPatterns = [\"abc\", \"123\", \"qwerty\", \"111\", \"aaa\", \"xyz\"];\n",
    "    const inappropriatePatterns = [\"f_bomb\", \"hitler\", \"nazism\", \"communism\"];\n",
    "\n",
    "    // Check for restricted or common content\n",
    "    const lowerPw = password.toLowerCase();\n",
    "    const hasCommon = commonPatterns.concat(repeatingPatterns).some(p => lowerPw.includes(p));\n",
    "    const notAllowed = inappropriatePatterns.some(p => lowerPw.includes(p));\n",
    "\n",
    "    // Calculate strength score\n",
    "    let strengthScore = 0;\n",
    "    if (isLongEnough) strengthScore++;\n",
    "    if (hasUppercase) strengthScore++;\n",
    "    if (hasLowercase) strengthScore++;\n",
    "    if (hasNumbers) strengthScore++;\n",
    "    if (hasSpecial) strengthScore++;\n",
    "\n",
    "    // Determine rating\n",
    "    let strengthRating = \"\";\n",
    "    if (notAllowed) {\n",
    "        strengthRating = \"Not Allowed\";\n",
    "    } else if (hasCommon) {\n",
    "        strengthRating = \"Weak\";\n",
    "    } else if (strengthScore <= 2) {\n",
    "        strengthRating = \"Weak\";\n",
    "    } else if (strengthScore <= 3) {\n",
    "        strengthRating = \"Medium\";\n",
    "    } else {\n",
    "        strengthRating = \"Strong\";\n",
    "    }\n",
    "\n",
    "    // Suggestions\n",
    "    const suggestions = [];\n",
    "    if (!isLongEnough) suggestions.push(`Make password longer (at least ${minLength} characters)`);\n",
    "    if (!hasUppercase) suggestions.push(\"Add uppercase letters\");\n",
    "    if (!hasLowercase) suggestions.push(\"Add lowercase letters\");\n",
    "    if (!hasNumbers) suggestions.push(\"Add numbers\");\n",
    "    if (!hasSpecial) suggestions.push(`Add special characters: ${specialChars}`);\n",
    "    if (hasCommon) suggestions.push(\"Avoid common words or patterns\");\n",
    "    if (notAllowed) suggestions.push(\"Avoid inappropriate or banned terms\");\n",
    "\n",
    "    return {\n",
    "        password,\n",
    "        length: passwordLength,\n",
    "        score: strengthScore,\n",
    "        rating: strengthRating,\n",
    "        isLongEnough,\n",
    "        hasUppercase,\n",
    "        hasLowercase,\n",
    "        hasNumbers,\n",
    "        hasSpecial,\n",
    "        hasCommonPatterns: hasCommon,\n",
    "        hasInappropriatePatterns: notAllowed,\n",
    "        suggestions\n",
    "    };\n",
    "}\n",
    "\n",
    "// Print results\n",
    "function printAnalysis(result, hidePassword = false) {\n",
    "    const pw = hidePassword ? \"*\".repeat(result.length) : result.password;\n",
    "    let output = `\\nPassword: ${pw}\\n`;\n",
    "    output += `Length: ${result.length} characters\\n`;\n",
    "    output += `Strength Score: ${result.score}/5 - ${result.rating}\\n`;\n",
    "    output += `Requirements met:\\n`;\n",
    "    output += `  ✓ Length >= 8: ${result.isLongEnough}\\n`;\n",
    "    output += `  ✓ Has uppercase: ${result.hasUppercase}\\n`;\n",
    "    output += `  ✓ Has lowercase: ${result.hasLowercase}\\n`;\n",
    "    output += `  ✓ Has numbers: ${result.hasNumbers}\\n`;\n",
    "    output += `  ✓ Has special chars: ${result.hasSpecial}\\n\\n`;\n",
    "\n",
    "    if (result.suggestions.length > 0) {\n",
    "        output += \"Suggestions for improvement:\\n\";\n",
    "        for (const s of result.suggestions) output += `  • ${s}\\n`;\n",
    "    } else if (result.rating === \"Not Allowed\") {\n",
    "        output += \"⚠️ Password contains restricted terms — not allowed.\\n\";\n",
    "    } else {\n",
    "        output += \"🎉 Excellent! Your password meets all security requirements!\\n\";\n",
    "    }\n",
    "\n",
    "    console.log(output);\n",
    "}\n",
    "\n",
    "// Example passwords\n",
    "const examplePasswords = [\n",
    "    \"adolfhitler123\",\n",
    "    \"David123456789\",\n",
    "    \"987654321\",\n",
    "    \"zacfsd\",\n",
    "    \"Berna@3#56\",\n",
    "    \"Wakers!\",\n",
    "    \"Doors&Rooms2\",\n",
    "    \"Debuggers20252026\"\n",
    "];\n",
    "\n",
    "console.log(\"\\nRunning examples:\");\n",
    "for (const p of examplePasswords) {\n",
    "    const result = analyzePassword(p);\n",
    "    printAnalysis(result, false);\n",
    "}"
   ]
  }
 ],
 "metadata": {
  "kernelspec": {
   "display_name": "venv (3.12.3)",
   "language": "python",
   "name": "python3"
  },
  "language_info": {
   "codemirror_mode": {
    "name": "ipython",
    "version": 3
   },
   "file_extension": ".py",
   "mimetype": "text/x-python",
   "name": "python",
   "nbconvert_exporter": "python",
   "pygments_lexer": "ipython3",
   "version": "3.12.3"
  }
 },
 "nbformat": 4,
 "nbformat_minor": 5
}
