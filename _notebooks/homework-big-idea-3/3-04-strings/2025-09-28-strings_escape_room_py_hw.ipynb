{
 "cells": [
  {
   "cell_type": "raw",
   "id": "8f638561",
   "metadata": {
    "vscode": {
     "languageId": "raw"
    }
   },
   "source": [
    "---\n",
    "layout: post\n",
    "title: Escape Room - Strings Homework\n",
    "description: Quick practice with strings in Python.\n",
    "permalink: /python/strings/escape_room-hw \n",
    "categories: [Python]\n",
    "Author: Cyrus S, Rishabh J.\n",
    "---"
   ]
  },
  {
   "cell_type": "markdown",
   "id": "0747a274",
   "metadata": {},
   "source": [
    "# AP CSP 3.4 — Python Strings: Free-Response Quiz\n",
    "\n",
    "This quiz focuses only on Python string operations (no JavaScript). Type your answers and click Check Answers.\n",
    "- Case-insensitive where appropriate\n",
    "- Quotes around answers are optional\n",
    "- True/False accepts yes/no, t/f, 1/0"
   ]
  },
  {
   "cell_type": "code",
   "execution_count": 2,
   "id": "91537994",
   "metadata": {},
   "outputs": [
    {
     "name": "stdout",
     "output_type": "stream",
     "text": [
      "Requirement already satisfied: ipywidgets in c:\\users\\rishabh jha\\appdata\\local\\programs\\python\\python313\\lib\\site-packages (8.1.7)\n",
      "Requirement already satisfied: comm>=0.1.3 in c:\\users\\rishabh jha\\appdata\\roaming\\python\\python313\\site-packages (from ipywidgets) (0.2.3)\n",
      "Requirement already satisfied: ipython>=6.1.0 in c:\\users\\rishabh jha\\appdata\\roaming\\python\\python313\\site-packages (from ipywidgets) (9.6.0)\n",
      "Requirement already satisfied: traitlets>=4.3.1 in c:\\users\\rishabh jha\\appdata\\roaming\\python\\python313\\site-packages (from ipywidgets) (5.14.3)\n",
      "Requirement already satisfied: widgetsnbextension~=4.0.14 in c:\\users\\rishabh jha\\appdata\\local\\programs\\python\\python313\\lib\\site-packages (from ipywidgets) (4.0.14)\n",
      "Requirement already satisfied: jupyterlab_widgets~=3.0.15 in c:\\users\\rishabh jha\\appdata\\local\\programs\\python\\python313\\lib\\site-packages (from ipywidgets) (3.0.15)\n",
      "Requirement already satisfied: colorama in c:\\users\\rishabh jha\\appdata\\roaming\\python\\python313\\site-packages (from ipython>=6.1.0->ipywidgets) (0.4.6)\n",
      "Requirement already satisfied: decorator in c:\\users\\rishabh jha\\appdata\\roaming\\python\\python313\\site-packages (from ipython>=6.1.0->ipywidgets) (5.2.1)\n",
      "Requirement already satisfied: ipython-pygments-lexers in c:\\users\\rishabh jha\\appdata\\roaming\\python\\python313\\site-packages (from ipython>=6.1.0->ipywidgets) (1.1.1)\n",
      "Requirement already satisfied: jedi>=0.16 in c:\\users\\rishabh jha\\appdata\\roaming\\python\\python313\\site-packages (from ipython>=6.1.0->ipywidgets) (0.19.2)\n",
      "Requirement already satisfied: matplotlib-inline in c:\\users\\rishabh jha\\appdata\\roaming\\python\\python313\\site-packages (from ipython>=6.1.0->ipywidgets) (0.1.7)\n",
      "Requirement already satisfied: prompt_toolkit<3.1.0,>=3.0.41 in c:\\users\\rishabh jha\\appdata\\roaming\\python\\python313\\site-packages (from ipython>=6.1.0->ipywidgets) (3.0.52)\n",
      "Requirement already satisfied: pygments>=2.4.0 in c:\\users\\rishabh jha\\appdata\\roaming\\python\\python313\\site-packages (from ipython>=6.1.0->ipywidgets) (2.19.2)\n",
      "Requirement already satisfied: stack_data in c:\\users\\rishabh jha\\appdata\\roaming\\python\\python313\\site-packages (from ipython>=6.1.0->ipywidgets) (0.6.3)\n",
      "Requirement already satisfied: wcwidth in c:\\users\\rishabh jha\\appdata\\roaming\\python\\python313\\site-packages (from prompt_toolkit<3.1.0,>=3.0.41->ipython>=6.1.0->ipywidgets) (0.2.14)\n",
      "Requirement already satisfied: parso<0.9.0,>=0.8.4 in c:\\users\\rishabh jha\\appdata\\roaming\\python\\python313\\site-packages (from jedi>=0.16->ipython>=6.1.0->ipywidgets) (0.8.5)\n",
      "Requirement already satisfied: executing>=1.2.0 in c:\\users\\rishabh jha\\appdata\\roaming\\python\\python313\\site-packages (from stack_data->ipython>=6.1.0->ipywidgets) (2.2.1)\n",
      "Requirement already satisfied: asttokens>=2.1.0 in c:\\users\\rishabh jha\\appdata\\roaming\\python\\python313\\site-packages (from stack_data->ipython>=6.1.0->ipywidgets) (3.0.0)\n",
      "Requirement already satisfied: pure-eval in c:\\users\\rishabh jha\\appdata\\roaming\\python\\python313\\site-packages (from stack_data->ipython>=6.1.0->ipywidgets) (0.2.3)\n",
      "Note: you may need to restart the kernel to use updated packages.\n",
      "🐍 Python Strings — Free-Response Quiz\n",
      "Answer the questions below and click Check Answers.\n",
      "\n"
     ]
    },
    {
     "name": "stderr",
     "output_type": "stream",
     "text": [
      "\n",
      "[notice] A new release of pip is available: 25.1.1 -> 25.2\n",
      "[notice] To update, run: python.exe -m pip install --upgrade pip\n"
     ]
    },
    {
     "data": {
      "application/vnd.jupyter.widget-view+json": {
       "model_id": "8eaf294b765346deaf4bbe2a604bdb26",
       "version_major": 2,
       "version_minor": 0
      },
      "text/plain": [
       "HTML(value=\"<b>1. What does 'hello'[1:4] return?</b>\")"
      ]
     },
     "metadata": {},
     "output_type": "display_data"
    },
    {
     "data": {
      "application/vnd.jupyter.widget-view+json": {
       "model_id": "2ad90a9f50c141ae8ec445faae837161",
       "version_major": 2,
       "version_minor": 0
      },
      "text/plain": [
       "Text(value='', placeholder='e.g., ell')"
      ]
     },
     "metadata": {},
     "output_type": "display_data"
    },
    {
     "data": {
      "application/vnd.jupyter.widget-view+json": {
       "model_id": "cf59bcca95504b4babd86d8c0322d252",
       "version_major": 2,
       "version_minor": 0
      },
      "text/plain": [
       "HTML(value=\"<b>2. What is len('Escape Room')?</b>\")"
      ]
     },
     "metadata": {},
     "output_type": "display_data"
    },
    {
     "data": {
      "application/vnd.jupyter.widget-view+json": {
       "model_id": "662615824c904efb8b699c889777872b",
       "version_major": 2,
       "version_minor": 0
      },
      "text/plain": [
       "Text(value='', placeholder='Enter a number')"
      ]
     },
     "metadata": {},
     "output_type": "display_data"
    },
    {
     "data": {
      "application/vnd.jupyter.widget-view+json": {
       "model_id": "abd392c3f88247049dc42774f0623fe0",
       "version_major": 2,
       "version_minor": 0
      },
      "text/plain": [
       "HTML(value=\"<b>3. What does 'Python'.lower() return?</b>\")"
      ]
     },
     "metadata": {},
     "output_type": "display_data"
    },
    {
     "data": {
      "application/vnd.jupyter.widget-view+json": {
       "model_id": "836933de633e491d8f7415c86102d301",
       "version_major": 2,
       "version_minor": 0
      },
      "text/plain": [
       "Text(value='', placeholder='e.g., python')"
      ]
     },
     "metadata": {},
     "output_type": "display_data"
    },
    {
     "data": {
      "application/vnd.jupyter.widget-view+json": {
       "model_id": "f68471ea2dfa4ffdafa55aaa4c3c3331",
       "version_major": 2,
       "version_minor": 0
      },
      "text/plain": [
       "HTML(value=\"<b>4. If s = '   CS Rocks!  ', what does s.strip() return?</b>\")"
      ]
     },
     "metadata": {},
     "output_type": "display_data"
    },
    {
     "data": {
      "application/vnd.jupyter.widget-view+json": {
       "model_id": "47699689746b452bac077a9ae44d237f",
       "version_major": 2,
       "version_minor": 0
      },
      "text/plain": [
       "Text(value='', placeholder='e.g., CS Rocks!')"
      ]
     },
     "metadata": {},
     "output_type": "display_data"
    },
    {
     "data": {
      "application/vnd.jupyter.widget-view+json": {
       "model_id": "7c128948fdae42839e6938f799c584d2",
       "version_major": 2,
       "version_minor": 0
      },
      "text/plain": [
       "HTML(value=\"<b>5. Does 'algorithm' start with 'algo'?</b> (True/False)\")"
      ]
     },
     "metadata": {},
     "output_type": "display_data"
    },
    {
     "data": {
      "application/vnd.jupyter.widget-view+json": {
       "model_id": "4295414a1a6c484e891e01d33f12334f",
       "version_major": 2,
       "version_minor": 0
      },
      "text/plain": [
       "Text(value='', placeholder='True/False')"
      ]
     },
     "metadata": {},
     "output_type": "display_data"
    },
    {
     "data": {
      "application/vnd.jupyter.widget-view+json": {
       "model_id": "4e83a1b5065e4a8aaebab8775cb480d3",
       "version_major": 2,
       "version_minor": 0
      },
      "text/plain": [
       "HTML(value=\"<b>6. What is 'banana'.count('an')?</b>\")"
      ]
     },
     "metadata": {},
     "output_type": "display_data"
    },
    {
     "data": {
      "application/vnd.jupyter.widget-view+json": {
       "model_id": "df3e04f337904e52a885223ab12c7254",
       "version_major": 2,
       "version_minor": 0
      },
      "text/plain": [
       "Text(value='', placeholder='Enter a number')"
      ]
     },
     "metadata": {},
     "output_type": "display_data"
    },
    {
     "data": {
      "application/vnd.jupyter.widget-view+json": {
       "model_id": "44adef481503447fb39f58b7deaf98d0",
       "version_major": 2,
       "version_minor": 0
      },
      "text/plain": [
       "HTML(value=\"<b>7. What index does 'debuggers'.find('bug') return?</b>\")"
      ]
     },
     "metadata": {},
     "output_type": "display_data"
    },
    {
     "data": {
      "application/vnd.jupyter.widget-view+json": {
       "model_id": "cf4f67416a854285a9fb3aec008e8ba0",
       "version_major": 2,
       "version_minor": 0
      },
      "text/plain": [
       "Text(value='', placeholder='Enter a number')"
      ]
     },
     "metadata": {},
     "output_type": "display_data"
    },
    {
     "data": {
      "application/vnd.jupyter.widget-view+json": {
       "model_id": "13691a4097794c28b8fc9292026a34fe",
       "version_major": 2,
       "version_minor": 0
      },
      "text/plain": [
       "HTML(value=\"<b>8. What is the length of the password 'Escape123!'?</b>\")"
      ]
     },
     "metadata": {},
     "output_type": "display_data"
    },
    {
     "data": {
      "application/vnd.jupyter.widget-view+json": {
       "model_id": "c32392821d1546dc8830ac8c48bed594",
       "version_major": 2,
       "version_minor": 0
      },
      "text/plain": [
       "Text(value='', placeholder='Enter a number')"
      ]
     },
     "metadata": {},
     "output_type": "display_data"
    },
    {
     "data": {
      "application/vnd.jupyter.widget-view+json": {
       "model_id": "8de30bec505742bda14e49b222673a8e",
       "version_major": 2,
       "version_minor": 0
      },
      "text/plain": [
       "Button(button_style='success', description='Check Answers', icon='check', style=ButtonStyle())"
      ]
     },
     "metadata": {},
     "output_type": "display_data"
    },
    {
     "data": {
      "application/vnd.jupyter.widget-view+json": {
       "model_id": "5c7f147c7e654b15957a72b1d5c2b4c6",
       "version_major": 2,
       "version_minor": 0
      },
      "text/plain": [
       "Output()"
      ]
     },
     "metadata": {},
     "output_type": "display_data"
    }
   ],
   "source": [
    "%pip install ipywidgets\n",
    "\n",
    "# Define password for Q8\n",
    "password = \"Escape123!\"\n",
    "password_length = len(password)\n",
    "\n",
    "# Python-only Strings Quiz\n",
    "from IPython.display import display, HTML, Javascript\n",
    "import ipywidgets as widgets\n",
    "\n",
    "print(\"🐍 Python Strings — Free-Response Quiz\")\n",
    "print(\"Answer the questions below and click Check Answers.\\n\")\n",
    "\n",
    "# Q1: Slice\n",
    "q1_label = widgets.HTML(\"<b>1. What does 'hello'[1:4] return?</b>\")\n",
    "q1 = widgets.Text(placeholder='e.g., ell')\n",
    "\n",
    "# Q2: Length\n",
    "q2_label = widgets.HTML(\"<b>2. What is len('Escape Room')?</b>\")\n",
    "q2 = widgets.Text(placeholder='Enter a number')\n",
    "\n",
    "# Q3: Lowercase\n",
    "q3_label = widgets.HTML(\"<b>3. What does 'Python'.lower() return?</b>\")\n",
    "q3 = widgets.Text(placeholder='e.g., python')\n",
    "\n",
    "# Q4: Strip\n",
    "q4_label = widgets.HTML(\"<b>4. If s = '   CS Rocks!  ', what does s.strip() return?</b>\")\n",
    "q4 = widgets.Text(placeholder='e.g., CS Rocks!')\n",
    "\n",
    "# Q5: startswith (True/False)\n",
    "q5_label = widgets.HTML(\"<b>5. Does 'algorithm' start with 'algo'?</b> (True/False)\")\n",
    "q5 = widgets.Text(placeholder='True/False')\n",
    "\n",
    "# Q6: count\n",
    "q6_label = widgets.HTML(\"<b>6. What is 'banana'.count('an')?</b>\")\n",
    "q6 = widgets.Text(placeholder='Enter a number')\n",
    "\n",
    "# Q7: find\n",
    "q7_label = widgets.HTML(\"<b>7. What index does 'debuggers'.find('bug') return?</b>\")\n",
    "q7 = widgets.Text(placeholder='Enter a number')\n",
    "\n",
    "# Q8: password length (uses existing variable)\n",
    "q8_label = widgets.HTML(f\"<b>8. What is the length of the password '{password}'?</b>\")\n",
    "q8 = widgets.Text(placeholder='Enter a number')\n",
    "\n",
    "submit_btn = widgets.Button(description='Check Answers', button_style='success', icon='check')\n",
    "output = widgets.Output()\n",
    "\n",
    "def parse_bool_like(s: str):\n",
    "    v = s.strip().lower()\n",
    "    if v in {'true','t','yes','y','1'}: return True\n",
    "    if v in {'false','f','no','n','0'}: return False\n",
    "    return None\n",
    "\n",
    "def strip_quotes(s: str):\n",
    "    return s.strip().strip(\"'\").strip('\"')\n",
    "\n",
    "def clean_str(s: str):\n",
    "    return s.strip().strip(\"'\").strip('\"')\n",
    "\n",
    "def check_answers(btn):\n",
    "    with output:\n",
    "        output.clear_output()\n",
    "        score, total = 0, 8\n",
    "        print('📊 QUIZ RESULTS')\n",
    "        print('='*40)\n",
    "\n",
    "        # Q1\n",
    "        a1 = clean_str(q1.value).lower()\n",
    "        if a1 == 'ell':\n",
    "            score += 1; print('✅ Q1: CORRECT')\n",
    "        else:\n",
    "            print('❌ Q1: INCORRECT — Correct: ell')\n",
    "\n",
    "        # Q2 (len of 'Escape Room' is 11)\n",
    "        a2 = clean_str(q2.value)\n",
    "        if a2.isdigit() and int(a2) == 11:\n",
    "            score += 1; print('✅ Q2: CORRECT')\n",
    "        else:\n",
    "            print('❌ Q2: INCORRECT — Correct: 11 (spaces count)')\n",
    "\n",
    "        # Q3\n",
    "        a3 = clean_str(q3.value).lower()\n",
    "        if a3 == 'python':\n",
    "            score += 1; print('✅ Q3: CORRECT')\n",
    "        else:\n",
    "            print(\"❌ Q3: INCORRECT — Correct: python\")\n",
    "\n",
    "        # Q4\n",
    "        a4 = strip_quotes(q4.value)\n",
    "        if a4 == 'CS Rocks!':\n",
    "            score += 1; print('✅ Q4: CORRECT')\n",
    "        else:\n",
    "            print(\"❌ Q4: INCORRECT — Correct: CS Rocks!\")\n",
    "\n",
    "        # Q5\n",
    "        a5 = parse_bool_like(q5.value)\n",
    "        if a5 is None:\n",
    "            print('⚠️ Q5: Could not parse. Please answer True/False.')\n",
    "        elif a5 is True:\n",
    "            score += 1; print('✅ Q5: CORRECT')\n",
    "        else:\n",
    "            print(\"❌ Q5: INCORRECT — Correct: True\")\n",
    "\n",
    "        # Q6\n",
    "        a6 = clean_str(q6.value)\n",
    "        if a6.isdigit() and int(a6) == 2:\n",
    "            score += 1; print('✅ Q6: CORRECT')\n",
    "        else:\n",
    "            print(\"❌ Q6: INCORRECT — Correct: 2\")\n",
    "\n",
    "        # Q7 ('debuggers'.find('bug') is 2)\n",
    "        a7 = clean_str(q7.value)\n",
    "        if a7.isdigit() and int(a7) == 2:\n",
    "            score += 1; print('✅ Q7: CORRECT')\n",
    "        else:\n",
    "            print(\"❌ Q7: INCORRECT — Correct: 2\")\n",
    "\n",
    "        # Q8 (password length)\n",
    "        a8 = clean_str(q8.value)\n",
    "        if a8.isdigit() and int(a8) == password_length:\n",
    "            score += 1; print('✅ Q8: CORRECT')\n",
    "        else:\n",
    "            print(f\"❌ Q8: INCORRECT — Correct: {password_length}\")\n",
    "\n",
    "        print('='*40)\n",
    "        print(f'🎯 Your Score: {score}/{total}')\n",
    "        print(f'📈 Percentage: {score/total*100:.1f}%')\n",
    "        try:\n",
    "            display(Javascript(\"localStorage.setItem('csp34_hw_py_quiz_tried','true');\"))\n",
    "        except Exception:\n",
    "            pass\n",
    "\n",
    "submit_btn.on_click(check_answers)\n",
    "\n",
    "display(q1_label, q1, q2_label, q2, q3_label, q3, q4_label, q4, q5_label, q5, q6_label, q6, q7_label, q7, q8_label, q8, submit_btn, output)"
   ]
  },
  {
   "cell_type": "markdown",
   "id": "68afbd04",
   "metadata": {},
   "source": [
    "## Part 2: Python Password Strength Practice\n",
    "\n",
    "Here you will make a password strength analyzer in Python. Complete the program so it checks:\n",
    "\n",
    "- Password length ≥ 8 characters\n",
    "- Contains uppercase letters\n",
    "- Contains lowercase letters  \n",
    "- Contains numbers\n",
    "- Contains special characters (!@#$%^&*)\n",
    "\n",
    "Then calculate a strength score and display appropriate feedback.\n",
    "\n",
    "Try to fix the code to set your own password level."
   ]
  },
  {
   "cell_type": "code",
   "execution_count": 12,
   "id": "24205713",
   "metadata": {},
   "outputs": [
    {
     "name": "stdout",
     "output_type": "stream",
     "text": [
      "=== Password Strength Analyzer ===\n",
      "\n",
      "Running examples:\n",
      "\n",
      "Password: adolfhitler123\n",
      "Length: 14 characters\n",
      "Strength Score: 3/5 - Not Allowed\n",
      "Requirements met:\n",
      "  Length >= 8: True\n",
      "  Has uppercase: False\n",
      "  Has lowercase: True\n",
      "  Has numbers: True\n",
      "  Has special chars: False\n",
      "Suggestions for improvement:\n",
      "  • Add uppercase letters\n",
      "  • Add special characters: !@#$%^&*\n",
      "  • Avoid common words or patterns\n",
      "  • Avoid inappropriate words or patterns\n",
      "\n",
      "Password: David123456789\n",
      "Length: 14 characters\n",
      "Strength Score: 4/5 - Weak\n",
      "Requirements met:\n",
      "  Length >= 8: True\n",
      "  Has uppercase: True\n",
      "  Has lowercase: True\n",
      "  Has numbers: True\n",
      "  Has special chars: False\n",
      "Suggestions for improvement:\n",
      "  • Add special characters: !@#$%^&*\n",
      "  • Avoid common words or patterns\n",
      "\n",
      "Password: 987654321\n",
      "Length: 9 characters\n",
      "Strength Score: 2/5 - Weak\n",
      "Requirements met:\n",
      "  Length >= 8: True\n",
      "  Has uppercase: False\n",
      "  Has lowercase: False\n",
      "  Has numbers: True\n",
      "  Has special chars: False\n",
      "Suggestions for improvement:\n",
      "  • Add uppercase letters\n",
      "  • Add lowercase letters\n",
      "  • Add special characters: !@#$%^&*\n",
      "  • Avoid common words or patterns\n",
      "\n",
      "Password: zacfsd\n",
      "Length: 6 characters\n",
      "Strength Score: 1/5 - Weak\n",
      "Requirements met:\n",
      "  Length >= 8: False\n",
      "  Has uppercase: False\n",
      "  Has lowercase: True\n",
      "  Has numbers: False\n",
      "  Has special chars: False\n",
      "Suggestions for improvement:\n",
      "  • Make password longer (at least 8 characters)\n",
      "  • Add uppercase letters\n",
      "  • Add numbers\n",
      "  • Add special characters: !@#$%^&*\n",
      "\n",
      "Password: Berna@3#56\n",
      "Length: 10 characters\n",
      "Strength Score: 5/5 - Strong\n",
      "Requirements met:\n",
      "  Length >= 8: True\n",
      "  Has uppercase: True\n",
      "  Has lowercase: True\n",
      "  Has numbers: True\n",
      "  Has special chars: True\n",
      "🎉 Excellent! Your password meets all security requirements!\n",
      "\n",
      "Password: Wakers!\n",
      "Length: 7 characters\n",
      "Strength Score: 3/5 - Medium\n",
      "Requirements met:\n",
      "  Length >= 8: False\n",
      "  Has uppercase: True\n",
      "  Has lowercase: True\n",
      "  Has numbers: False\n",
      "  Has special chars: True\n",
      "Suggestions for improvement:\n",
      "  • Make password longer (at least 8 characters)\n",
      "  • Add numbers\n",
      "\n",
      "Password: Doors&Rooms2\n",
      "Length: 12 characters\n",
      "Strength Score: 5/5 - Strong\n",
      "Requirements met:\n",
      "  Length >= 8: True\n",
      "  Has uppercase: True\n",
      "  Has lowercase: True\n",
      "  Has numbers: True\n",
      "  Has special chars: True\n",
      "🎉 Excellent! Your password meets all security requirements!\n",
      "\n",
      "Password: Debuggers20252026\n",
      "Length: 17 characters\n",
      "Strength Score: 4/5 - Strong\n",
      "Requirements met:\n",
      "  Length >= 8: True\n",
      "  Has uppercase: True\n",
      "  Has lowercase: True\n",
      "  Has numbers: True\n",
      "  Has special chars: False\n",
      "Suggestions for improvement:\n",
      "  • Add special characters: !@#$%^&*\n"
     ]
    }
   ],
   "source": [
    "print(\"=== Password Strength Analyzer ===\")\n",
    "\n",
    "def analyze_password(password: str, min_length: int = 8, special_chars: str = \"!@#$%^&*\"):\n",
    "    password_length = len(password)\n",
    "    is_long_enough = password_length >= min_length\n",
    "    has_uppercase = any(c.isupper() for c in password)\n",
    "    has_lowercase = any(c.islower() for c in password)\n",
    "    has_numbers = any(c.isdigit() for c in password)\n",
    "    has_special = any(c in special_chars for c in password)\n",
    "    common_patterns = [\"password\",\"123456789\",\"987654321\",\"hello\", \"goodmorning\", \"letmein\", \"food\", \"planes\", \"eat\", \"donuts\"]\n",
    "    repeating_patterns = [\"abc\",\"123\",\"qwerty\",\"111\",\"aaa\",\"xyz\"]\n",
    "    all_patterns = common_patterns + repeating_patterns\n",
    "    inappropriate_patterns = [\"f_bomb\",\"hitler\",\"nazism\",\"communism\"]\n",
    "    has_common = any(c in password.lower()for c in all_patterns)\n",
    "    not_allowed = any(c in password.lower() for c in inappropriate_patterns)\n",
    "\n",
    "    strength_score = int(is_long_enough) + int(has_uppercase) + int(has_lowercase) + int(has_numbers) + int(has_special)\n",
    "    if not_allowed:\n",
    "        strength_rating = \"Not Allowed\"\n",
    "    elif has_common:\n",
    "        strength_rating = \"Weak\"\n",
    "    elif strength_score <= 2:\n",
    "        strength_rating = \"Weak\" \n",
    "    elif strength_score <= 3:\n",
    "        strength_rating = \"Medium\"\n",
    "    else:\n",
    "        strength_rating = \"Strong\"\n",
    "\n",
    "    suggestions = []\n",
    "    if not is_long_enough:\n",
    "        suggestions.append(f\"Make password longer (at least {min_length} characters)\")\n",
    "    if not has_uppercase:\n",
    "        suggestions.append(\"Add uppercase letters\")\n",
    "    if not has_lowercase:\n",
    "        suggestions.append(\"Add lowercase letters\")\n",
    "    if not has_numbers:\n",
    "        suggestions.append(\"Add numbers\")\n",
    "    if not has_special:\n",
    "        suggestions.append(f\"Add special characters: {special_chars}\")\n",
    "    if has_common:\n",
    "        suggestions.append(\"Avoid common words or patterns\")\n",
    "    if not_allowed: \n",
    "        suggestions.append(\"Avoid inappropriate words or patterns\")\n",
    "\n",
    "    return {\n",
    "        \"password\": password,\n",
    "        \"length\": password_length,\n",
    "        \"is_long_enough\": is_long_enough,\n",
    "        \"has_uppercase\": has_uppercase,\n",
    "        \"has_lowercase\": has_lowercase,\n",
    "        \"has_numbers\": has_numbers,\n",
    "        \"has_special\": has_special,\n",
    "        \"score\": strength_score,\n",
    "        \"rating\": strength_rating,\n",
    "        \"suggestions\": suggestions,\n",
    "        \"has_common_patterns\": has_common,\n",
    "        \"has_inappropriate_patterns\": not_allowed\n",
    "    }\n",
    "\n",
    "\n",
    "def print_analysis(result: dict, hide_password: bool = False):\n",
    "    pw = result[\"password\"] if not hide_password else (\"*\" * result[\"length\"])\n",
    "    print(f\"\\nPassword: {pw}\")\n",
    "    print(f\"Length: {result['length']} characters\")\n",
    "    print(f\"Strength Score: {result['score']}/5 - {result['rating']}\")\n",
    "    print(\"Requirements met:\")\n",
    "    print(f\"  Length >= 8: {result['is_long_enough']}\")\n",
    "    print(f\"  Has uppercase: {result['has_uppercase']}\")\n",
    "    print(f\"  Has lowercase: {result['has_lowercase']}\")\n",
    "    print(f\"  Has numbers: {result['has_numbers']}\")\n",
    "    print(f\"  Has special chars: {result['has_special']}\")\n",
    "    if result[\"suggestions\"]:\n",
    "        print(\"Suggestions for improvement:\")\n",
    "        for s in result[\"suggestions\"]:\n",
    "            print(f\"  • {s}\")\n",
    "    else:\n",
    "        print(\"🎉 Excellent! Your password meets all security requirements!\")\n",
    "\n",
    "_example_passwords = [\n",
    "    \"adolfhitler123\",\n",
    "    \"David123456789\",\n",
    "    \"987654321\",\n",
    "    \"zacfsd\",\n",
    "    \"Berna@3#56\",\n",
    "    \"Wakers!\",\n",
    "    \"Doors&Rooms2\",\n",
    "    \"Debuggers20252026\",\n",
    "]\n",
    "\n",
    "print(\"\\nRunning examples:\")\n",
    "for p in _example_passwords:\n",
    "    print_analysis(analyze_password(p), hide_password=False)\n",
    "\n",
    "try:\n",
    "    use_input = input(\"\\nTry your own password? (y/N) \").strip().lower()\n",
    "except Exception:\n",
    "    use_input = \"n\"\n",
    "if use_input in {\"y\",\"yes\"}:\n",
    "    try:\n",
    "        password = input(\"What is your password? \")\n",
    "        print_analysis(analyze_password(password), hide_password=False)\n",
    "    except Exception:\n",
    "        print(\"Interactive input not available in this environment.\")"
   ]
  }
 ],
 "metadata": {
  "kernelspec": {
   "display_name": "venv (3.12.3)",
   "language": "python",
   "name": "python3"
  },
  "language_info": {
   "codemirror_mode": {
    "name": "ipython",
    "version": 3
   },
   "file_extension": ".py",
   "mimetype": "text/x-python",
   "name": "python",
   "nbconvert_exporter": "python",
   "pygments_lexer": "ipython3",
   "version": "3.12.3"
  }
 },
 "nbformat": 4,
 "nbformat_minor": 5
}
