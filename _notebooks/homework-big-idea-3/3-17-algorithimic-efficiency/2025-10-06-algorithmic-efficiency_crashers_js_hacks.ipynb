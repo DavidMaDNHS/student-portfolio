{
 "cells": [
  {
   "cell_type": "raw",
   "id": "4e3e77eb",
   "metadata": {
    "vscode": {
     "languageId": "raw"
    }
   },
   "source": [
    "---\n",
    "layout: post\n",
    "title: \"Crashers - 3.17 Algorithmic Efficiency Javascript Hacks\"\n",
    "categories: [Javascript]\n",
    "tags: [python, javascript, algorithms, lesson, beginner]\n",
    "description: Learn about algorithms and how they can be more or less efficient\n",
    "permalink: /javascript/algorithmic-efficiency/crashers-hw\n",
    "---"
   ]
  },
  {
   "cell_type": "markdown",
   "id": "825f983c",
   "metadata": {},
   "source": [
    "## Algorithmic Efficiency Hacks: Javascript\n",
    "\n",
    "Let's test your knowledge on algorithmic efficiency!\n",
    "\n",
    "### Hack 1: How Much Time?\n",
    "\n",
    "#### Objective: write the time complexity of the algorithm below using Big-O notation.\n",
    "(don't worry about special cases such as n = 1 or n = 0)."
   ]
  },
  {
   "cell_type": "code",
   "execution_count": 1,
   "id": "1fc4bcce",
   "metadata": {
    "vscode": {
     "languageId": "javascript"
    }
   },
   "outputs": [
    {
     "data": {
      "application/javascript": "let n = 5; // change this value to test different outputs!\n\nfor (let i = 0; i < n * 2; i++) {\n    console.log(i);\n}\nconsole.log(O(n))let n = 5; // change this value to test different outputs!\n\nfor (let i = 0; i < n * 2; i++) {\n    console.log(i);\n}\n\n// Print the time complexity\nconsole.log(\"O(n)\");\n\n//TODO: print the above algorithm's time complexity\n//BE CAREFUL - This one might trick some people. Remember that Big-O notation shows how much an algorithm's time complexity GROWS, so coefficients don't matter...\n",
      "text/plain": [
       "<IPython.core.display.Javascript object>"
      ]
     },
     "metadata": {},
     "output_type": "display_data"
    }
   ],
   "source": [
    "%%javascript\n",
    "let n = 5; // change this value to test different outputs!\n",
    "\n",
    "for (let i = 0; i < n * 2; i++) {\n",
    "    console.log(i);\n",
    "}\n",
    "console.log(O(n))let n = 5; // change this value to test different outputs!\n",
    "\n",
    "for (let i = 0; i < n * 2; i++) {\n",
    "    console.log(i);\n",
    "}\n",
    "\n",
    "// Print the time complexity\n",
    "console.log(\"O(n)\");\n",
    "\n",
    "//TODO: print the above algorithm's time complexity\n",
    "//BE CAREFUL - This one might trick some people. Remember that Big-O notation shows how much an algorithm's time complexity GROWS, so coefficients don't matter..."
   ]
  },
  {
   "cell_type": "markdown",
   "id": "4e562838",
   "metadata": {},
   "source": [
    "### Hack 2: Your Turn!\n",
    "\n",
    "#### Objective: <strong>write</strong> an algorithm with O(n^2) time complexity."
   ]
  },
  {
   "cell_type": "code",
   "execution_count": 3,
   "id": "f9394969",
   "metadata": {
    "vscode": {
     "languageId": "javascript"
    }
   },
   "outputs": [
    {
     "data": {
      "application/javascript": "const n = 10; // change this if you want\n\nfor (let i = 0; i < n; i++) {       // Outer loop\n    for (let j = 0; j < n; j++) {   // Inner loop\n        console.log(i, j);\n    }\n}\n\n// Print the time complexity\nconsole.log(\"O(n^2)\");\n",
      "text/plain": [
       "<IPython.core.display.Javascript object>"
      ]
     },
     "metadata": {},
     "output_type": "display_data"
    }
   ],
   "source": [
    "%%javascript\n",
    "const n = 10; // change this if you want\n",
    "\n",
    "for (let i = 0; i < n; i++) {       // Outer loop\n",
    "    for (let j = 0; j < n; j++) {   // Inner loop\n",
    "        console.log(i, j);\n",
    "    }\n",
    "}\n",
    "\n",
    "// Print the time complexity\n",
    "console.log(\"O(n^2)\");"
   ]
  },
  {
   "cell_type": "markdown",
   "id": "26d353f3",
   "metadata": {},
   "source": [
    "### Hack 3: Gotta Go Fast!\n",
    "\n",
    "#### Objective: Optimize this algorithm so that it has a lower time complexity <strong>without modifying the outer loop</strong>"
   ]
  },
  {
   "cell_type": "code",
   "execution_count": 4,
   "id": "83acbe82",
   "metadata": {
    "vscode": {
     "languageId": "javascript"
    }
   },
   "outputs": [
    {
     "data": {
      "application/javascript": "const n = 10; // change this\nlet count = 0;\n\nfor (let i = 0; i < n; i++) { // Outer loop, DO NOT MODIFY\n    count += i; // Instead of looping j from 0 to i-1\n}\n\nconsole.log(count);\n",
      "text/plain": [
       "<IPython.core.display.Javascript object>"
      ]
     },
     "metadata": {},
     "output_type": "display_data"
    }
   ],
   "source": [
    "%%javascript\n",
    "const n = 10; // change this\n",
    "let count = 0;\n",
    "\n",
    "for (let i = 0; i < n; i++) { // Outer loop, DO NOT MODIFY\n",
    "    count += i; // Instead of looping j from 0 to i-1\n",
    "}\n",
    "\n",
    "console.log(count);"
   ]
  },
  {
   "cell_type": "markdown",
   "id": "e6e45a7b",
   "metadata": {},
   "source": [
    "### Hack 4: Extra Challenge \n",
    "\n",
    "#### Objective: Write an algorithm that does <strong>NOT</strong> have a time complexity of O(1), O(n), or O(n^x) and identify the time complexity\n",
    "##### (I will not accept O(n^3) or some other power, it needs to be more complex.)"
   ]
  },
  {
   "cell_type": "code",
   "execution_count": 5,
   "id": "87c33c6e",
   "metadata": {
    "vscode": {
     "languageId": "javascript"
    }
   },
   "outputs": [
    {
     "data": {
      "application/javascript": "const n = 5; // change this number\n\nlet count = 0;\n\n// Double nested loop with doubling behavior (exponential), confused me and took me quite some time!\nfor (let i = 0; i < Math.pow(2, n); i++) {\n    count++;\n}\n\nconsole.log(\"Count:\", count);\nconsole.log(\"Time complexity: O(2^n)\");\n",
      "text/plain": [
       "<IPython.core.display.Javascript object>"
      ]
     },
     "metadata": {},
     "output_type": "display_data"
    }
   ],
   "source": [
    "%%javascript\n",
    "const n = 5; // change this number\n",
    "\n",
    "let count = 0;\n",
    "\n",
    "// Double nested loop with doubling behavior (exponential), confused me and took me quite some time!\n",
    "for (let i = 0; i < Math.pow(2, n); i++) {\n",
    "    count++;\n",
    "}\n",
    "\n",
    "console.log(\"Count:\", count);\n",
    "console.log(\"Time complexity: O(2^n)\");"
   ]
  }
 ],
 "metadata": {
  "kernelspec": {
   "display_name": "venv (3.12.3)",
   "language": "python",
   "name": "python3"
  },
  "language_info": {
   "codemirror_mode": {
    "name": "ipython",
    "version": 3
   },
   "file_extension": ".py",
   "mimetype": "text/x-python",
   "name": "python",
   "nbconvert_exporter": "python",
   "pygments_lexer": "ipython3",
   "version": "3.12.3"
  }
 },
 "nbformat": 4,
 "nbformat_minor": 5
}
