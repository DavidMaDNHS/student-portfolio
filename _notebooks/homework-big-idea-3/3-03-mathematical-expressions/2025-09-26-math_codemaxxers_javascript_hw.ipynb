{
 "cells": [
  {
   "cell_type": "raw",
   "id": "6290bcd2",
   "metadata": {
    "vscode": {
     "languageId": "raw"
    }
   },
   "source": [
    "---\n",
    "title: \"Mathematical Operations in Javascript - Hacks\"\n",
    "description: \"Apply your skills of math, logic, and coding.\"\n",
    "layout: post\n",
    "categories: [Javascript]\n",
    "permalink: /javascript/mathematical-expressions/codemaxxers-hw\n",
    "---"
   ]
  },
  {
   "cell_type": "markdown",
   "id": "d98b569e",
   "metadata": {},
   "source": [
    "# Basic Algebraic Math hacks\n",
    "\n",
    "## Q1 (Exponents):\n",
    "### A cube has a side length of 6 units. What is its volume?"
   ]
  },
  {
   "cell_type": "code",
   "execution_count": null,
   "id": "235ceb13",
   "metadata": {
    "vscode": {
     "languageId": "javascript"
    }
   },
   "outputs": [
    {
     "data": {
      "application/javascript": "function GetCubeVolume(width, length, height){\n    result = width * length * height\n    return result\n}\nconst CubeVolume = GetCubeVolume(6,6,6) \nconsole.log(CubeVolume)\n",
      "text/plain": [
       "<IPython.core.display.Javascript object>"
      ]
     },
     "metadata": {},
     "output_type": "display_data"
    }
   ],
   "source": [
    "%%js \n",
    "function GetCubeVolume(width, length, height){\n",
    "    result = width * length * height\n",
    "    return result\n",
    "}\n",
    "const CubeVolume = GetCubeVolume(6,6,6) \n",
    "console.log(CubeVolume)"
   ]
  },
  {
   "cell_type": "markdown",
   "id": "3fb1dd4d",
   "metadata": {},
   "source": [
    "## Q2 (PEMDAS):\n",
    "### Evaluate the expression: \n",
    "\n",
    "(7+14)*5/12 + 2"
   ]
  },
  {
   "cell_type": "code",
   "execution_count": 5,
   "id": "49d712a3",
   "metadata": {
    "vscode": {
     "languageId": "javascript"
    }
   },
   "outputs": [
    {
     "data": {
      "application/javascript": "const result = (7+14)*5/12 + 2\nconsole.log(result)\n",
      "text/plain": [
       "<IPython.core.display.Javascript object>"
      ]
     },
     "metadata": {},
     "output_type": "display_data"
    }
   ],
   "source": [
    "%%js\n",
    "const result = (7+14)*5/12 + 2\n",
    "console.log(result)"
   ]
  },
  {
   "cell_type": "markdown",
   "id": "fcaa4762",
   "metadata": {},
   "source": [
    "## Q3 (Algorithm): \n",
    "\n",
    "Write JavaScript  code where you define variables and run commands that find the values of operations you apply onto them"
   ]
  },
  {
   "cell_type": "code",
   "execution_count": 7,
   "id": "0a2081a9",
   "metadata": {
    "vscode": {
     "languageId": "javascript"
    }
   },
   "outputs": [
    {
     "data": {
      "application/javascript": "// Nuclear leak warning at Chernobyl!\n    class System{\n    constructor(Model){\n        this.Level = 100\n        this.Active = false\n        this.Increasing = false\n        this.Model = Model\n        this.Alert = 90\n    }\n    TurnOn(){\n        this.Active = true\n    }\n    TurnOff(){\n        this.Active = false\n        }\n    StartIncreasing(){\n        this.Increasing = true\n        }\n    Decline(){\n        this.Increasing = false\n    }\n}\nlet MySystem = new System(\"Warning System\")\n\nfunction Tick(){\n    if (MySystem.Active == true){\n        MySystem.Level -= 1\n        console.log(`Active:${MySystem.Level}`)\n    }\n\n    if (MySystem.Increasing){\n        if (MySystem.Level != 100){\n            MySystem.Level += 1\n            console.log(`Increased:${MySystem.Level}`)\n        }\n    }\n\n\n    if (MySystem.Level <= 20){\n        console.log(\"SAFE!!!\")\n    }\n\n    if(MySystem.Level >= 100){\n        console.log(\"Need to Evacuate, NUCLEAR LEAK WARNING!\")\n\n        if(MySystem.Level > 0){\n            MySystem.Level -= 0.5 \n        }\n    }\n}\n\n\nMySystem.TurnOn()\n\nlet myInterval = setInterval(Tick, 1000);\n\n",
      "text/plain": [
       "<IPython.core.display.Javascript object>"
      ]
     },
     "metadata": {},
     "output_type": "display_data"
    }
   ],
   "source": [
    "%%js \n",
    "// Nuclear leak warning at Chernobyl!\n",
    "    class System{\n",
    "    constructor(Model){\n",
    "        this.Level = 100\n",
    "        this.Active = false\n",
    "        this.Increasing = false\n",
    "        this.Model = Model\n",
    "        this.Alert = 90\n",
    "    }\n",
    "    TurnOn(){\n",
    "        this.Active = true\n",
    "    }\n",
    "    TurnOff(){\n",
    "        this.Active = false\n",
    "        }\n",
    "    StartIncreasing(){\n",
    "        this.Increasing = true\n",
    "        }\n",
    "    Decline(){\n",
    "        this.Increasing = false\n",
    "    }\n",
    "}\n",
    "let MySystem = new System(\"Warning System\")\n",
    "\n",
    "function Tick(){\n",
    "    if (MySystem.Active == true){\n",
    "        MySystem.Level -= 1\n",
    "        console.log(`Active:${MySystem.Level}`)\n",
    "    }\n",
    "\n",
    "    if (MySystem.Increasing){\n",
    "        if (MySystem.Level != 100){\n",
    "            MySystem.Level += 1\n",
    "            console.log(`Increased:${MySystem.Level}`)\n",
    "        }\n",
    "    }\n",
    "\n",
    "\n",
    "    if (MySystem.Level <= 20){\n",
    "        console.log(\"SAFE!!!\")\n",
    "    }\n",
    "\n",
    "    if(MySystem.Level >= 100){\n",
    "        console.log(\"Need to Evacuate, NUCLEAR LEAK WARNING!\")\n",
    "\n",
    "        if(MySystem.Level > 0){\n",
    "            MySystem.Level -= 0.5 \n",
    "        }\n",
    "    }\n",
    "}\n",
    "\n",
    "\n",
    "MySystem.TurnOn()\n",
    "\n",
    "let myInterval = setInterval(Tick, 1000);\n",
    "\n"
   ]
  },
  {
   "cell_type": "markdown",
   "id": "7927eeac",
   "metadata": {},
   "source": [
    "<img src=\"/images/3_3diagram.png\" alt=\"Diagram showing mathematical operations\" style=\"max-width:300px; margin:10px;\">\n"
   ]
  }
 ],
 "metadata": {
  "kernelspec": {
   "display_name": "venv (3.12.3)",
   "language": "python",
   "name": "python3"
  },
  "language_info": {
   "codemirror_mode": {
    "name": "ipython",
    "version": 3
   },
   "file_extension": ".py",
   "mimetype": "text/x-python",
   "name": "python",
   "nbconvert_exporter": "python",
   "pygments_lexer": "ipython3",
   "version": "3.12.3"
  }
 },
 "nbformat": 4,
 "nbformat_minor": 5
}
