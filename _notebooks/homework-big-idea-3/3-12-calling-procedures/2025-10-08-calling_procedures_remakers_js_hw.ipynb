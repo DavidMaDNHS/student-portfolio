{
 "cells": [
  {
   "cell_type": "raw",
   "id": "7b98ce38",
   "metadata": {
    "vscode": {
     "languageId": "raw"
    }
   },
   "source": [
    "---\n",
    "toc: true\n",
    "comments: false\n",
    "layout: post\n",
    "categories: [CSP Big Idea 3]\n",
    "title: 3.12 Calling Procedures JavaScript Hacks\n",
    "author: Sathwik Kintada\n",
    "description: 3.12 Calling Procedures JS hacks\n",
    "permalink: /csp/big-idea-3/calling-procedures/p4/hw-js\n",
    "---"
   ]
  },
  {
   "cell_type": "markdown",
   "id": "160c3d0a",
   "metadata": {},
   "source": [
    "\n",
    "# 3.12 Calling Procedures Homework in JavaScript\n",
    "\n",
    "Complete the 4 tasks below as homework:\n",
    "\n",
    "1. Create the functions \n",
    "2. Run the Code cell\n",
    "4. Have fun!\n"
   ]
  },
  {
   "cell_type": "markdown",
   "id": "ebf0a264",
   "metadata": {},
   "source": [
    "**Hack — Example 1: Simple function with no parameters**"
   ]
  },
  {
   "cell_type": "code",
   "execution_count": 1,
   "id": "112c4252",
   "metadata": {
    "vscode": {
     "languageId": "javascript"
    }
   },
   "outputs": [
    {
     "data": {
      "application/javascript": "// TODO: Call sayHello to print \"Hello there!\"\nfunction sayHello() {\n    console.log(\"Hello there!\")\n\n}\n// sayHello();\nsayHello();\n",
      "text/plain": [
       "<IPython.core.display.Javascript object>"
      ]
     },
     "metadata": {},
     "output_type": "display_data"
    }
   ],
   "source": [
    "%%js\n",
    "// TODO: Call sayHello to print \"Hello there!\"\n",
    "function sayHello() {\n",
    "    console.log(\"Hello there!\")\n",
    "    \n",
    "}\n",
    "// sayHello();\n",
    "sayHello();"
   ]
  },
  {
   "cell_type": "markdown",
   "id": "17ab185e",
   "metadata": {},
   "source": [
    "- Does the code run as expected?\n",
    "- If yes, move on to the next hack."
   ]
  },
  {
   "cell_type": "markdown",
   "id": "e9083de7",
   "metadata": {},
   "source": [
    "**Hack — Example 2: Function with one parameter**"
   ]
  },
  {
   "cell_type": "code",
   "execution_count": 2,
   "id": "5575c3fd",
   "metadata": {
    "vscode": {
     "languageId": "javascript"
    }
   },
   "outputs": [
    {
     "data": {
      "application/javascript": "// TODO: Call greet with your name to welcome the student\nfunction greet(name) {\n    console.log(\"Hello,\" + name + \"!\"); \n\n\n}\ngreet(\"David\", \"B\");\n",
      "text/plain": [
       "<IPython.core.display.Javascript object>"
      ]
     },
     "metadata": {},
     "output_type": "display_data"
    }
   ],
   "source": [
    "%%js\n",
    "// TODO: Call greet with your name to welcome the student\n",
    "function greet(name) {\n",
    "    console.log(\"Hello,\" + name + \"!\"); \n",
    "\n",
    "    \n",
    "}\n",
    "greet(\"David\", \"B\");"
   ]
  },
  {
   "cell_type": "markdown",
   "id": "42d3e631",
   "metadata": {},
   "source": [
    "- Does your code properly greet the person?\n",
    "- Are there no errors in your code?\n",
    "- If yes, move on to the next hack."
   ]
  },
  {
   "cell_type": "markdown",
   "id": "501df5a2",
   "metadata": {},
   "source": [
    "**Hack — Example 3: Function with two parameters**"
   ]
  },
  {
   "cell_type": "code",
   "execution_count": 4,
   "id": "342675e4",
   "metadata": {
    "vscode": {
     "languageId": "javascript"
    }
   },
   "outputs": [
    {
     "data": {
      "application/javascript": "// Function to add two numbers\nfunction addNumbers(a, b) {\n    return a + b;\n}\n\n// Call the function with two numbers and print the result\nconsole.log(addNumbers(3, 7));  // 10\n",
      "text/plain": [
       "<IPython.core.display.Javascript object>"
      ]
     },
     "metadata": {},
     "output_type": "display_data"
    }
   ],
   "source": [
    "%%js\n",
    "// Function to add two numbers\n",
    "function addNumbers(a, b) {\n",
    "    return a + b;\n",
    "}\n",
    "\n",
    "// Call the function with two numbers and print the result\n",
    "console.log(addNumbers(3, 7));  // 10"
   ]
  },
  {
   "cell_type": "markdown",
   "id": "aec74a73",
   "metadata": {},
   "source": [
    "- Does addNumbers(3, 7) give 10?\n",
    "- Does it work for other numbers too?\n",
    "- If yes, move on to the next hack."
   ]
  },
  {
   "cell_type": "markdown",
   "id": "05f1bdf5",
   "metadata": {},
   "source": [
    "**Hack — Example 4: Function that returns a value**"
   ]
  },
  {
   "cell_type": "code",
   "execution_count": null,
   "id": "8a91b5b9",
   "metadata": {
    "vscode": {
     "languageId": "javascript"
    }
   },
   "outputs": [
    {
     "data": {
      "application/javascript": "// Implement factorial(n) to return n!\nfunction factorial(n) {\n    if (n === 0 || n === 1) {\n        return 1;  // base case\n    } else {\n        return n * factorial(n - 1);  // recursive call\n    }\n}\n\n// Example: factorial(5) should return 120\nresult = factorial(5);\nconsole.log(result);  // 120\n\n// Example: factorial(0) should return 1\nresult = factorial(0);\nconsole.log(result);  // 1\n\n// Example: factorial(1) should return 1\nresult = factorial(1);\nconsole.log(result);  // 1\n",
      "text/plain": [
       "<IPython.core.display.Javascript object>"
      ]
     },
     "metadata": {},
     "output_type": "display_data"
    }
   ],
   "source": [
    "%%js\n",
    "// Implement factorial(n) to return n!\n",
    "function factorial(n) {\n",
    "    if (n === 0 || n === 1) {\n",
    "        return 1;  // base case\n",
    "    } else {\n",
    "        return n * factorial(n - 1);  // recursive call\n",
    "    }\n",
    "}\n",
    "\n",
    "// Example: factorial(5) should return 120\n",
    "result = factorial(5);\n",
    "console.log(result);  // 120\n",
    "\n",
    "// Example: factorial(0) should return 1\n",
    "result = factorial(0);\n",
    "console.log(result);  // 1\n",
    "\n",
    "// Example: factorial(1) should return 1\n",
    "result = factorial(1);\n",
    "console.log(result);  // 1\n"
   ]
  },
  {
   "cell_type": "markdown",
   "id": "f2c9f82a",
   "metadata": {},
   "source": [
    "- Does factorial(0) return 1?\n",
    "- Does factorial(1) return 1?\n",
    "- Does factorial(5) return 120?\n",
    "- If yes, move on to the next hack."
   ]
  },
  {
   "cell_type": "markdown",
   "id": "4a7a8ee2",
   "metadata": {},
   "source": [
    "**Hack - Challenge Example 5: Function calling another function**"
   ]
  },
  {
   "cell_type": "code",
   "execution_count": 9,
   "id": "1c57fa10",
   "metadata": {
    "vscode": {
     "languageId": "javascript"
    }
   },
   "outputs": [
    {
     "data": {
      "application/javascript": "// Dictionary (object) of items and their prices\nconst storeItems = {\n  apple: 2.0,\n  banana: 1.5,\n  milk: 3.25,\n  bread: 2.0\n};\n\n// Function 1: calculate subtotal\nfunction getSubtotal(cart) {\n  let subtotal = 0;\n  for (let item in cart) {\n    if (storeItems[item]) {          \n      subtotal += storeItems[item] * cart[item];  \n    }\n  }\n  return subtotal;\n}\n\n// Function 2: add tax\nfunction addTax(subtotal, taxRate) {\n  return subtotal * (1 + taxRate);\n}\n\n// Function 3: checkout\nfunction checkout(cart, taxRate) {\n  const subtotal = getSubtotal(cart);\n  const total = addTax(subtotal, taxRate);\n  console.log(`Subtotal: $${subtotal.toFixed(2)}`);\n  console.log(`Total (with tax): $${total.toFixed(2)}`);\n}\n\n// Example cart for testing\nconst myCart = {\n  apple: 2,\n  milk: 1,\n  bread: 1\n};\n\n// Call checkout with 8% tax\ncheckout(myCart, 0.08);\n",
      "text/plain": [
       "<IPython.core.display.Javascript object>"
      ]
     },
     "metadata": {},
     "output_type": "display_data"
    }
   ],
   "source": [
    "%%js\n",
    "// Dictionary (object) of items and their prices\n",
    "const storeItems = {\n",
    "  apple: 2.0,\n",
    "  banana: 1.5,\n",
    "  milk: 3.25,\n",
    "  bread: 2.0\n",
    "};\n",
    "\n",
    "// Function 1: calculate subtotal\n",
    "function getSubtotal(cart) {\n",
    "  let subtotal = 0;\n",
    "  for (let item in cart) {\n",
    "    if (storeItems[item]) {          \n",
    "      subtotal += storeItems[item] * cart[item];  \n",
    "    }\n",
    "  }\n",
    "  return subtotal;\n",
    "}\n",
    "\n",
    "// Function 2: add tax\n",
    "function addTax(subtotal, taxRate) {\n",
    "  return subtotal * (1 + taxRate);\n",
    "}\n",
    "\n",
    "// Function 3: checkout\n",
    "function checkout(cart, taxRate) {\n",
    "  const subtotal = getSubtotal(cart);\n",
    "  const total = addTax(subtotal, taxRate);\n",
    "  console.log(`Subtotal: $${subtotal.toFixed(2)}`);\n",
    "  console.log(`Total (with tax): $${total.toFixed(2)}`);\n",
    "}\n",
    "\n",
    "// Example cart for testing\n",
    "const myCart = {\n",
    "  apple: 2,\n",
    "  milk: 1,\n",
    "  bread: 1\n",
    "};\n",
    "\n",
    "// Call checkout with 8% tax\n",
    "checkout(myCart, 0.08);"
   ]
  },
  {
   "cell_type": "markdown",
   "id": "3994dc3f",
   "metadata": {},
   "source": [
    "- If the shopping cart contains 2 apples, 1 milk, and 1 bread, will your program show a subtotal of $8.00 and a total of $8.64 with an 8% tax rate?\n",
    "- Try changing the cart to 3 bananas and 2 milk — should the subtotal be $10.25 and the total with 8% tax be $11.07?\n",
    "- If your output matches these totals, your function calls and calculations are correct!"
   ]
  }
 ],
 "metadata": {
  "kernelspec": {
   "display_name": "venv (3.12.3)",
   "language": "python",
   "name": "python3"
  },
  "language_info": {
   "codemirror_mode": {
    "name": "ipython",
    "version": 3
   },
   "file_extension": ".py",
   "mimetype": "text/x-python",
   "name": "python",
   "nbconvert_exporter": "python",
   "pygments_lexer": "ipython3",
   "version": "3.12.3"
  }
 },
 "nbformat": 4,
 "nbformat_minor": 5
}
