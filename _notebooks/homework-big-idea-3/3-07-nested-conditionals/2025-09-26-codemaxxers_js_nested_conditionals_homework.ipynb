{
  "cells": [
    {
      "cell_type": "raw",
      "metadata": {
        "vscode": {
          "languageId": "raw"
        }
      },
      "source": [
        "---\n",
        "title: \"Nested Conditionals in Javascript - Homework\"\n",
        "description: \"Apply your skills of multilayered conditionals and combine all you've learned so far.\"\n",
        "layout: post\n",
        "categories: [Javascript]\n",
        "permalink: /csp/codemaxxers/nested-conditionals-homework-js\n",
        "---"
      ]
    },
    {
      "cell_type": "markdown",
      "metadata": {},
      "source": [
        "# Nested Conditionals Homework: Javascript\n",
        "\n",
        "Complete the following three problems to practice working with nested conditionals. Each problem increases in difficulty. **All problems must be completed in JavaScript.**"
      ]
    },
    {
      "cell_type": "markdown",
      "metadata": {},
      "source": [
        "## Problem 1: Complete the Shipping Cost Calculator (Easy)\n",
        "\n",
        "An online store calculates shipping costs based on the order total and membership status. The partially completed code below needs to be finished.\n",
        "\n",
        "**Rules:**\n",
        "- If order total is $50 or more:\n",
        "  - Free shipping for members\n",
        "  - $5 shipping for non-members\n",
        "- If order total is less than $50:\n",
        "  - $3 shipping for members\n",
        "  - $8 shipping for non-members\n",
        "\n",
        "**Your task:** Complete the nested conditional so that when you run the code with the given initial values (`orderTotal = 45` and `isMember = true`), the output shows a shipping cost of **$3**."
      ]
    },
    {
      "cell_type": "code",
      "execution_count": 14,
      "metadata": {
        "vscode": {
          "languageId": "javascript"
        }
      },
      "outputs": [
        {
          "data": {
            "application/javascript": "// Initial conditions - DO NOT CHANGE THESE\nlet orderTotal = 45;\nlet isMember = true;\nlet shippingCost = 0;\n\nconsole.log(`Order Total: $${orderTotal}`);\nconsole.log(`Member: ${isMember}`);\n\n// YOUR CODE HERE: Complete the nested conditional\nif (orderTotal >= 50) {\n    if (isMember){\n        console.log(shippingCost = 0);\n    } else {\n\n        console.log(shippingCost = 5)\n    }\n\n} else {\n    if (isMember) {\n        console.log(shippingCost = 3);\n\n    }else {\n        console.log(shippingCost = 8);\n    }\n}\n\nconsole.log(`Shipping Cost: $${shippingCost}`);\n\n// Expected output with given values: Shipping Cost: $3\n",
            "text/plain": [
              "<IPython.core.display.Javascript object>"
            ]
          },
          "metadata": {},
          "output_type": "display_data"
        }
      ],
      "source": [
        "%%js\n",
        "// Initial conditions - DO NOT CHANGE THESE\n",
        "let orderTotal = 45;\n",
        "let isMember = true;\n",
        "let shippingCost = 0;\n",
        "\n",
        "console.log(`Order Total: $${orderTotal}`);\n",
        "console.log(`Member: ${isMember}`);\n",
        "\n",
        "// YOUR CODE HERE: Complete the nested conditional\n",
        "if (orderTotal >= 50) {\n",
        "    if (isMember){\n",
        "        console.log(shippingCost = 0);\n",
        "    } else {\n",
        "    \n",
        "        console.log(shippingCost = 5)\n",
        "    }\n",
        "    \n",
        "} else {\n",
        "    if (isMember) {\n",
        "        console.log(shippingCost = 3);\n",
        "        \n",
        "    }else {\n",
        "        console.log(shippingCost = 8);\n",
        "    }\n",
        "}\n",
        "\n",
        "console.log(`Shipping Cost: $${shippingCost}`);\n",
        "\n",
        "// Expected output with given values: Shipping Cost: $3"
      ]
    },
    {
      "cell_type": "markdown",
      "metadata": {},
      "source": [
        "## Problem 2: Build a Restaurant Recommendation System (Medium)\n",
        "\n",
        "Create a system that recommends a restaurant based on the user's budget and cuisine preference.\n",
        "\n",
        "**Requirements:**\n",
        "- If budget is \"high\" (over $30 per person):\n",
        "  - If cuisine is \"italian\": recommend \"Bella Notte\"\n",
        "  - If cuisine is \"japanese\": recommend \"Sakura Palace\"\n",
        "  - For any other cuisine: recommend \"The Grand Bistro\"\n",
        "- If budget is \"medium\" ($15-$30 per person):\n",
        "  - If cuisine is \"italian\": recommend \"Mario's Pizzeria\"\n",
        "  - If cuisine is \"japanese\": recommend \"Tokyo Express\"\n",
        "  - For any other cuisine: recommend \"Downtown Diner\"\n",
        "- If budget is \"low\" (under $15 per person):\n",
        "  - Recommend \"Food Court\" regardless of cuisine preference\n",
        "\n",
        "**Your task:** Write the complete nested conditional structure. Store the recommendation in the `recommendation` variable."
      ]
    },
    {
      "cell_type": "code",
      "execution_count": 15,
      "metadata": {
        "vscode": {
          "languageId": "javascript"
        }
      },
      "outputs": [
        {
          "data": {
            "application/javascript": "// Test variables\nlet budgetPerPerson = 25;\nlet cuisine = \"japanese\";\nlet recommendation = \"\";\n\nconsole.log(`Budget per person: $${budgetPerPerson}`);\nconsole.log(`Preferred cuisine: ${cuisine}`);\n\n// YOUR CODE HERE: Write the complete nested conditional\nif (budgetPerPerson >= 30){\n    if (cuisine === \"italian\"){\n        console.log(recommendation = \"Bella Notte\")\n    }else if (cuisine === \"japanese\"){\n        console.log(recommendation = \"Sushi World\")\n    }else{ \n        console.log(recommendation = \"The Grand Bistro\")\n    }\n} else if (budgetPerPerson >= 15 && budgetPerPerson < 30 ){\n    if (cuisine === \"italian\"){\n        console.log(recommendation = \"Mario's Pizzeria\")\n    }else if(cuisine === \"japanese\"){\n        console.log(recommendation = \"Tokyo Express\")\n    }else{\n        console.log(recommendation = \"Downtown Diner\")\n    }\n} else if (budgetPerPerson < 15){\n    console.log(recommendation = \"Food Court\")\n}\n\n\n\n\nconsole.log(`\\nRecommendation: ${recommendation}`);\n\n// Test your code with these scenarios:\n// budgetPerPerson=35, cuisine=\"italian\" → \"Bella Notte\"\n// budgetPerPerson=25, cuisine=\"japanese\" → \"Tokyo Express\"\n// budgetPerPerson=20, cuisine=\"mexican\" → \"Downtown Diner\"\n// budgetPerPerson=10, cuisine=\"italian\" → \"Food Court\"\n",
            "text/plain": [
              "<IPython.core.display.Javascript object>"
            ]
          },
          "metadata": {},
          "output_type": "display_data"
        }
      ],
      "source": [
        "%%js\n",
        "// Test variables\n",
        "let budgetPerPerson = 25;\n",
        "let cuisine = \"japanese\";\n",
        "let recommendation = \"\";\n",
        "\n",
        "console.log(`Budget per person: $${budgetPerPerson}`);\n",
        "console.log(`Preferred cuisine: ${cuisine}`);\n",
        "\n",
        "// YOUR CODE HERE: Write the complete nested conditional\n",
        "if (budgetPerPerson >= 30){\n",
        "    if (cuisine === \"italian\"){\n",
        "        console.log(recommendation = \"Bella Notte\")\n",
        "    }else if (cuisine === \"japanese\"){\n",
        "        console.log(recommendation = \"Sushi World\")\n",
        "    }else{ \n",
        "        console.log(recommendation = \"The Grand Bistro\")\n",
        "    }\n",
        "} else if (budgetPerPerson >= 15 && budgetPerPerson < 30 ){\n",
        "    if (cuisine === \"italian\"){\n",
        "        console.log(recommendation = \"Mario's Pizzeria\")\n",
        "    }else if(cuisine === \"japanese\"){\n",
        "        console.log(recommendation = \"Tokyo Express\")\n",
        "    }else{\n",
        "        console.log(recommendation = \"Downtown Diner\")\n",
        "    }\n",
        "} else if (budgetPerPerson < 15){\n",
        "    console.log(recommendation = \"Food Court\")\n",
        "}\n",
        "\n",
        "\n",
        "\n",
        "\n",
        "console.log(`\\nRecommendation: ${recommendation}`);\n",
        "\n",
        "// Test your code with these scenarios:\n",
        "// budgetPerPerson=35, cuisine=\"italian\" → \"Bella Notte\"\n",
        "// budgetPerPerson=25, cuisine=\"japanese\" → \"Tokyo Express\"\n",
        "// budgetPerPerson=20, cuisine=\"mexican\" → \"Downtown Diner\"\n",
        "// budgetPerPerson=10, cuisine=\"italian\" → \"Food Court\""
      ]
    },
    {
      "cell_type": "markdown",
      "metadata": {},
      "source": [
        "## Problem 3: Design a Smart Home Thermostat System (Hard)\n",
        "\n",
        "You're designing the logic for a smart thermostat that automatically adjusts temperature based on multiple factors.\n",
        "\n",
        "**Word Problem:**\n",
        "\n",
        "The thermostat needs to decide what action to take based on:\n",
        "- Current temperature\n",
        "- Whether anyone is home\n",
        "- Time of day (represented as \"day\" or \"night\")\n",
        "- Energy saving mode (on or off)\n",
        "\n",
        "**Logic Requirements:**\n",
        "\n",
        "1. **If someone is home:**\n",
        "   - During the day:\n",
        "     - If temp is above 75°F: set action to \"cooling\" and targetTemp to 72\n",
        "     - If temp is below 68°F: set action to \"heating\" and targetTemp to 70\n",
        "     - Otherwise: set action to \"maintaining\" and keep current temp\n",
        "   - During the night:\n",
        "     - If temp is above 72°F: set action to \"cooling\" and targetTemp to 68\n",
        "     - If temp is below 65°F: set action to \"heating\" and targetTemp to 68\n",
        "     - Otherwise: set action to \"maintaining\" and keep current temp\n",
        "\n",
        "2. **If no one is home:**\n",
        "   - If energy saving mode is ON:\n",
        "     - If temp is above 80°F: set action to \"cooling\" and targetTemp to 78\n",
        "     - If temp is below 60°F: set action to \"heating\" and targetTemp to 62\n",
        "     - Otherwise: set action to \"off\" and targetTemp to current temp\n",
        "   - If energy saving mode is OFF:\n",
        "     - Set action to \"maintaining\" and targetTemp to 70\n",
        "\n",
        "**Your task:** Design the complete nested conditional algorithm from scratch. You're given the framework below with initial values, but NO code. Write the entire logic yourself."
      ]
    },
    {
      "cell_type": "code",
      "execution_count": null,
      "metadata": {
        "vscode": {
          "languageId": "javascript"
        }
      },
      "outputs": [
        {
          "data": {
            "application/javascript": "// Test variables\nlet currentTemp = 78;\nlet isHomeOccupied = true;\nlet timeOfDay = \"day\";  // \"day\" or \"night\"\nlet energySavingMode = false;\n\n// Variables to set\nlet action = \"\";  // \"heating\", \"cooling\", \"maintaining\", or \"off\"\nlet targetTemp = currentTemp;\n\nconsole.log(\"=== Smart Thermostat Status ===\");\nconsole.log(`Current Temperature: ${currentTemp}°F`);\nconsole.log(`Home Occupied: ${isHomeOccupied}`);\nconsole.log(`Time of Day: ${timeOfDay}`);\nconsole.log(`Energy Saving Mode: ${energySavingMode}`);\nconsole.log();\n\n// === YOUR CODE HERE: Complete nested conditional algorithm ===\n\n// Determine target temperature based on home status, time, and mode. Here I am unable to create the condition to \"maintain\" the temperature.\nif (isHomeOccupied) {\n    if (timeOfDay === \"day\") {\n        if (targetTemp > 75) {\n            action = \"cooling\";\n            targetTemp = 72;  // Daytime cooling\n        } if (targetTemp < 68 ) {\n            action = \"heating\";\n            targetTemp = 70;  // Daytime heating\n        }\n        else if (targetTemp > 68 && targetTemp < 75){\n            action = \"maintaining\";\n            console.log(targetTemp)\n        }\n    } else { // night\n        if (targetTemp > 72) {\n            action = \"cooling\";\n            targetTemp = 68;  // Nighttime cooling\n        } if (targetTemp < 65) {\n            action = \"heating\";\n            targetTemp = 68;  // Nighttime heating\n        }\n         else if (targetTemp > 65 && targetTemp < 72){\n            action = \"maintaining\";\n            console.log(targetTemp)\n    }\n    } else { // Home not occupied\n    if (energySavingMode){\n        if (targetTemp > 80) {\n            action = \"cooling\";\n        targetTemp = 78;  // Energy-saving temps when away\n    } if (targetTemp < 60) {\n        action = \"heating\";\n        targetTemp = 62;  // Maintain moderate temp if not saving energy\n    }\n    } else {\n    action = \"maintaining\";\n    targetTemp = 70; //Maintain 70F when not occupied and not in Energy Saving Mode\n    }\n    }\n}\n\n// Display the final thermostat action and target temperature\nconsole.log(\"=== Thermostat Action ===\");\nconsole.log(`Action: ${action}`);\nconsole.log(`Target Temperature: ${targetTemp}°F`);\n",
            "text/plain": [
              "<IPython.core.display.Javascript object>"
            ]
          },
          "metadata": {},
          "output_type": "display_data"
        }
      ],
      "source": [
        "%%js\n",
        "// Test variables\n",
        "let currentTemp = 78;\n",
        "let isHomeOccupied = true;\n",
        "let timeOfDay = \"day\";  // \"day\" or \"night\"\n",
        "let energySavingMode = false;\n",
        "\n",
        "// Variables to set\n",
        "let action = \"\";  // \"heating\", \"cooling\", \"maintaining\", or \"off\"\n",
        "let targetTemp = currentTemp;\n",
        "\n",
        "console.log(\"=== Smart Thermostat Status ===\");\n",
        "console.log(`Current Temperature: ${currentTemp}°F`);\n",
        "console.log(`Home Occupied: ${isHomeOccupied}`);\n",
        "console.log(`Time of Day: ${timeOfDay}`);\n",
        "console.log(`Energy Saving Mode: ${energySavingMode}`);\n",
        "console.log();\n",
        "\n",
        "// === Smart Thermostat Logic ===\n",
        "if (isHomeOccupied) {\n",
        "    if (timeOfDay === \"day\") {\n",
        "        if (currentTemp > 75) {\n",
        "            action = \"cooling\";\n",
        "            targetTemp = 72;\n",
        "        } else if (currentTemp < 68) {\n",
        "            action = \"heating\";\n",
        "            targetTemp = 70;\n",
        "        } else {\n",
        "            action = \"maintaining\";\n",
        "        }\n",
        "    } else { // night\n",
        "        if (currentTemp > 72) {\n",
        "            action = \"cooling\";\n",
        "            targetTemp = 68;\n",
        "        } else if (currentTemp < 65) {\n",
        "            action = \"heating\";\n",
        "            targetTemp = 68;\n",
        "        } else {\n",
        "            action = \"maintaining\";\n",
        "        }\n",
        "    }\n",
        "} else { // Home not occupied\n",
        "    if (energySavingMode) {\n",
        "        if (currentTemp > 80) {\n",
        "            action = \"cooling\";\n",
        "            targetTemp = 78;\n",
        "        } else if (currentTemp < 60) {\n",
        "            action = \"heating\";\n",
        "            targetTemp = 62;\n",
        "        } else {\n",
        "            action = \"maintaining\";\n",
        "        }\n",
        "    } else {\n",
        "        action = \"maintaining\";\n",
        "        targetTemp = 70;\n",
        "    }\n",
        "}\n",
        "\n",
        "console.log(\"=== Thermostat Action ===\");\n",
        "console.log(`Action: ${action}`);\n",
        "console.log(`Target Temperature: ${targetTemp}°F`);"
      ]
    },
    {
      "cell_type": "markdown",
      "metadata": {},
      "source": [
        "## Reflection Questions\n",
        "\n",
        "After completing all three problems, answer these questions:\n",
        "\n",
        "1. Which problem was the most challenging and why?\n",
        "\n",
        "The third one was very challenging, it involved multiple conditions and possibilities that are nested within, I struggled to create the function correctly, especially on the part when someone was home and I had to set the target Temp, and do maintain the temp if it is just right. Also extinguishing the day and night, for both when someone was and wasnt home, was very challenging. \n",
        "\n",
        "2. How did you decide on the structure of your nested conditionals in Problem 3?\n",
        "\n",
        "I was unsure, I just started off by creating a condition if the houes is occupied or not, if yes, then daytime, then whenever energySavingMode was on or not, similar structure for the 2nd one. I am not sure if my code work or not, I am unsure about this one. \n",
        "\n",
        "3. Can you think of a real-world situation where you would need \n",
        "even MORE levels of nesting than Problem 3?\n",
        "\n",
        "Probably: If I dont study for test 3 for my AP CALC BC class, I will probably not be prepared for the final. If I dont have good foundation of knowledge for the final, I will likely fail the course. If I fail the course for this Tri, I will likely not have enough knowledge to get a good grade for the class this year. If I dont have enough knowledge and is getting bad grades, I will likely not do good on the AP exam. If I fail the class and the AP exam, I will likely have a bad record and I wont be able to get to good colleges. If I dont go to a college, I wont be able to find a good job. If I dont get a good job, I will likely not have enough money to live comfortably. "
      ]
    }
  ],
  "metadata": {
    "kernelspec": {
      "display_name": "venv (3.12.3)",
      "language": "python",
      "name": "python3"
    },
    "language_info": {
      "codemirror_mode": {
        "name": "ipython",
        "version": 3
      },
      "file_extension": ".py",
      "mimetype": "text/x-python",
      "name": "python",
      "nbconvert_exporter": "python",
      "pygments_lexer": "ipython3",
      "version": "3.12.3"
    }
  },
  "nbformat": 4,
  "nbformat_minor": 4
}
