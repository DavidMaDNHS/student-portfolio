{
 "cells": [
  {
   "cell_type": "raw",
   "id": "cae8bc40",
   "metadata": {
    "vscode": {
     "languageId": "raw"
    }
   },
   "source": [
    "---\n",
    "layout: post\n",
    "title: Lists Hacks Javascript\n",
    "description: This is a CSP Hacks notebook based on the lists lesson\n",
    "comments: true\n",
    "categories: [Javascript]\n",
    "permalink: /csp/homework-big-idea-3/3-10-lists/Lists_Hacks_JS\n",
    "---"
   ]
  },
  {
   "cell_type": "markdown",
   "id": "44bdd529",
   "metadata": {},
   "source": [
    "# Javascript Lists Homework"
   ]
  },
  {
   "cell_type": "markdown",
   "id": "6a975112",
   "metadata": {},
   "source": [
    "- After going through the Javascript lists lesson work on these hacks in your own repository"
   ]
  },
  {
   "cell_type": "markdown",
   "id": "4b1ccc5c",
   "metadata": {},
   "source": [
    "### Hack 1 – Add Up Numbers\n",
    "\n",
    "Make a list of numbers. Write code to:\n",
    "1. Find the total sum.\n",
    "2. Find the average."
   ]
  },
  {
   "cell_type": "code",
   "execution_count": 1,
   "id": "9fc29a1a",
   "metadata": {
    "vscode": {
     "languageId": "javascript"
    }
   },
   "outputs": [
    {
     "data": {
      "application/javascript": "let numbers = [4, 7, 1, 9, 6, 7, 10];\n\nlet total = 0;\nfor (let num of numbers) {\n    total += num;\n}\n\nconsole.log(`Total points: ${total}`);  // 44\n\nlet average = total / numbers.length;\nconsole.log(`Average score: ${average}`);  // 6.285714285714286\n",
      "text/plain": [
       "<IPython.core.display.Javascript object>"
      ]
     },
     "metadata": {},
     "output_type": "display_data"
    }
   ],
   "source": [
    "%%javascript\n",
    "let numbers = [4, 7, 1, 9, 6, 7, 10];\n",
    "\n",
    "let total = 0;\n",
    "for (let num of numbers) {\n",
    "    total += num;\n",
    "}\n",
    "\n",
    "console.log(`Total points: ${total}`);  // 44\n",
    "\n",
    "let average = total / numbers.length;\n",
    "console.log(`Average score: ${average}`);  // 6.285714285714286"
   ]
  },
  {
   "cell_type": "markdown",
   "id": "519b9811",
   "metadata": {},
   "source": [
    "### Hack 2 – Count Repeats\n",
    "\n",
    "Make a list with repeated items. Write code to count how many times each item appears."
   ]
  },
  {
   "cell_type": "code",
   "execution_count": 2,
   "id": "b9e989ea",
   "metadata": {
    "vscode": {
     "languageId": "javascript"
    }
   },
   "outputs": [
    {
     "data": {
      "application/javascript": "let items = [\"cat\", \"dog\", \"cat\", \"bird\", \"bird\", \"bird\"];\n\n// Create empty object to store counts\nlet frequency = {};\n\n// Count each item\nfor (let item of items) {\n    if (frequency[items]) {\n        frequency[items]++;\n    } else {\n        frequency[items] = 1;\n    }\n}\n\nconsole.log(frequency);\n// Output: {cat: 2, dog: 1, bird: 3}\n",
      "text/plain": [
       "<IPython.core.display.Javascript object>"
      ]
     },
     "metadata": {},
     "output_type": "display_data"
    }
   ],
   "source": [
    "%%javascript\n",
    "let items = [\"cat\", \"dog\", \"cat\", \"bird\", \"bird\", \"bird\"];\n",
    "\n",
    "// Create empty object to store counts\n",
    "let frequency = {};\n",
    "\n",
    "// Count each item\n",
    "for (let item of items) {\n",
    "    if (frequency[items]) {\n",
    "        frequency[items]++;\n",
    "    } else {\n",
    "        frequency[items] = 1;\n",
    "    }\n",
    "}\n",
    "\n",
    "console.log(frequency);\n",
    "// Output: {cat: 2, dog: 1, bird: 3}"
   ]
  },
  {
   "cell_type": "markdown",
   "id": "800ed729",
   "metadata": {},
   "source": [
    "### Hack 3 – Keep Only Evens\n",
    "\n",
    "Make a list of numbers. Write code to create a new list with only even numbers."
   ]
  },
  {
   "cell_type": "code",
   "execution_count": 3,
   "id": "4f7fc860",
   "metadata": {
    "vscode": {
     "languageId": "javascript"
    }
   },
   "outputs": [
    {
     "data": {
      "application/javascript": "// Hack 3 – Keep Only Evens\nlet numbers = [3, 8, 5, 12, 7, 9, 13, 31, 66, 18];\n\n// Create empty array for even numbers\nlet evenNumbers = [];\n\n// Loop through numbers and keep only evens\nfor (let num of numbers) {\n    if (num % 2 === 0) {\n        evenNumbers.push(num);\n    }\n}\n\nconsole.log(evenNumbers);  // [8, 12, 66, 18]\n",
      "text/plain": [
       "<IPython.core.display.Javascript object>"
      ]
     },
     "metadata": {},
     "output_type": "display_data"
    }
   ],
   "source": [
    "%%javascript\n",
    "// Hack 3 – Keep Only Evens\n",
    "let numbers = [3, 8, 5, 12, 7, 9, 13, 31, 66, 18];\n",
    "\n",
    "// Create empty array for even numbers\n",
    "let evenNumbers = [];\n",
    "\n",
    "// Loop through numbers and keep only evens\n",
    "for (let num of numbers) {\n",
    "    if (num % 2 === 0) {\n",
    "        evenNumbers.push(num);\n",
    "    }\n",
    "}\n",
    "\n",
    "console.log(evenNumbers);  // [8, 12, 66, 18]"
   ]
  }
 ],
 "metadata": {
  "kernelspec": {
   "display_name": "venv (3.12.3)",
   "language": "python",
   "name": "python3"
  },
  "language_info": {
   "codemirror_mode": {
    "name": "ipython",
    "version": 3
   },
   "file_extension": ".py",
   "mimetype": "text/x-python",
   "name": "python",
   "nbconvert_exporter": "python",
   "pygments_lexer": "ipython3",
   "version": "3.12.3"
  }
 },
 "nbformat": 4,
 "nbformat_minor": 5
}
