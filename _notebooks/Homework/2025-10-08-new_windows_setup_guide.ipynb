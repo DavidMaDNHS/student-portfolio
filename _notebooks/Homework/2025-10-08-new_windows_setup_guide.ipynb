{
 "cells": [
  {
   "cell_type": "raw",
   "id": "e8e0a2be",
   "metadata": {
    "vscode": {
     "languageId": "raw"
    }
   },
   "source": [
    "---\n",
    "title: \"Setup Guide🚀 for New Windows Students!\"\n",
    "description: \"Hi Windows Students!!!🎓 You got this!🚀🚀🚀\"\n",
    "layout: post\n",
    "permalink: /work-completed/new-windows-setup-guide/\n",
    "---"
   ]
  },
  {
   "cell_type": "markdown",
   "metadata": {},
   "source": [
    "## Setup Guide🚀 for New Windows Students!"
   ]
  },
  {
   "cell_type": "markdown",
   "metadata": {},
   "source": [
    "## Week 1-4🔧🔨\n",
    "### Hi Windows Students!!!🎓 You got this!🚀🚀🚀\n",
    "\n",
    "---\n",
    "\n",
    "- We started by creating a Github account and logging into the OpenCodingSociety, a powerful resource where you will use to guide your through for the rest of the year\n",
    "- Then Accessed VSCode through the offical website, a place where you will code, experiment, and learn, you will be able to program and change your website there\n",
    "- Then you have to install the VScode on your computer, I will talk about it later\n",
    "- Then we worked on our About page using vscode.dev \n",
    "- Next, we focused on building our tools on VScode\n",
    "- For Windows students, follow the procedure below \n",
    "\n",
    "---"
   ]
  },
  {
   "cell_type": "markdown",
   "id": "bb852181",
   "metadata": {},
   "source": [
    "### First, understand the following🚀\n",
    "\n",
    "### Shell Commands\n",
    "\n",
    "---\n",
    "\n",
    "- Windows: wsl, then standard Linux commands inside Ubuntu\n",
    "\n",
    "### Version Control Commands\n",
    "- git clone: Make a working copy of a git repository from the cloud to your local machine.\n",
    "- git pull: Update your local copy of the repository with changes from the cloud repository.\n",
    "- git commit: Save changes to files in your local repository.\n",
    "- git push: Send updates from your local repository to the remote repository.\n",
    "\n",
    "---"
   ]
  },
  {
   "cell_type": "markdown",
   "id": "74da624a",
   "metadata": {},
   "source": [
    "### Now do the following procedure \n",
    "\n",
    "---\n",
    "\n",
    "Windows Setup 🚀\n",
    "Install VSCode\n",
    "[VSCode link, Select OS and select default on prompts](https://code.visualstudio.com/download)\n",
    "\n",
    "WSL install ☁️\n",
    "- Open Windows Terminal and Pin to Taskbar. All of these commands are activated from Windows Shell (C:\\)\n",
    "\n",
    "wsl --install -d Ubuntu-24.04\n",
    "- Setup a username and password when prompted. On password you will be typing but will not see respones.\n",
    "\n",
    "At the conclusion of the install you will receive a WSL Ubuntu prompt. For now we will exit WSL.\n",
    "\n",
    "- exit\n",
    "\n",
    "Set as default:\n",
    "\n",
    "wsl --set-default Ubuntu-24.04\n",
    "- To start WSL Ubuntu from (C:\\)\n",
    "\n",
    "- command: wsl\n",
    "\n",
    "Close Terminal.\n",
    "\n",
    "---"
   ]
  },
  {
   "cell_type": "markdown",
   "id": "738b490b",
   "metadata": {},
   "source": [
    "### WSL Ubuntu Setup\n",
    "### First-time Setup\n",
    "\n",
    "Open Terminal by right clicking on Terminal in Taskbar and selecting Ubuntu 24.04\n",
    "\n",
    "---\n",
    "\n",
    "Run these commands to set up your Ubuntu developer tools for the first time.\n",
    "\n",
    "- mkdir opencs\n",
    "\n",
    "- cd opencs\n",
    "\n",
    "- git config --global credential.helper \"/mnt/c/Program\\ Files/Git/mingw64/bin/git-credential-manager.exe\"\n",
    "\n",
    "- git clone https://github.com/Open-Coding-Society/student.git\n",
    "\n",
    "- cd student/\n",
    "\n",
    "- ./scripts/activate_ubuntu.sh # prompts for your recently created WSL Ubuntu password\n",
    "\n",
    "- ./scripts/activate.sh # prompts for Git UID and Personal Email\n",
    "\n",
    "- ./scripts/venv.sh\n",
    "\n",
    "---\n",
    "\n",
    "### System Checks (Optional)\n",
    "Open Terminal by right clicking on Terminal in Taskbar and selecting Ubuntu 24.04\n",
    "\n",
    "Run these commands to verify your system setup and check installed tools.\n",
    "\n",
    "--- \n",
    "\n",
    "- python --version\n",
    "\n",
    "- pip --version\n",
    "\n",
    "- ruby -v\n",
    "\n",
    "- bundle -v\n",
    "\n",
    "- gem --version\n",
    "\n",
    "- git config --global --list\n",
    "\n",
    "---\n",
    "\n",
    "### Restarting a terminal\n",
    "\n",
    "Open Terminal by right clicking on Terminal in Taskbar and selecting Ubuntu 24.04\n",
    "\n",
    "Each time you open a new terminal session, run these commands to activate your environment and start working on the student project in VS Code.\n",
    "\n",
    "---\n",
    "\n",
    "- cd opencs/student\n",
    "\n",
    "- source venv/bin/activate\n",
    "\n",
    "- code .\n",
    "\n",
    "---\n",
    "\n",
    "### Once you are done with all these, Congratulations! You have COMPLETED setting up your basic tools and are ready to start programming!\n",
    "\n",
    "### HOT TIP🔥🔥🔥 - if you are struggling, ask chatgpt or copilot, they are a great use in solving errors! You can also go ask Mr.Mortensen or others in your group! \n",
    "\n",
    "### YOU GOT THIS!!! Everything may seem confusing at first, I experienced the confusion at first too! But I didn't give up, I asked Mr.Mortensen and others in my class for help and I gradually understood everything!"
   ]
  }
 ],
 "metadata": {
  "language_info": {
   "name": "python"
  }
 },
 "nbformat": 4,
 "nbformat_minor": 5
}
